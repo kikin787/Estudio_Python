{
 "cells": [
  {
   "cell_type": "markdown",
   "metadata": {},
   "source": [
    "True y False"
   ]
  },
  {
   "cell_type": "code",
   "execution_count": null,
   "metadata": {},
   "outputs": [],
   "source": [
    "\"\"\"\n",
    "False\n",
    "None\n",
    "0\n",
    "0.0\n",
    "' ' / \"\"\n",
    "[]\n",
    "()\n",
    "{}\n",
    "\"\"\"\n"
   ]
  },
  {
   "cell_type": "markdown",
   "metadata": {},
   "source": [
    "Condiciones if"
   ]
  },
  {
   "cell_type": "code",
   "execution_count": null,
   "metadata": {},
   "outputs": [],
   "source": [
    "resultado = 101\n",
    "if resultado > 8 and resultado < 20:\n",
    "    print(\"La variable cumple la condición.\")\n",
    "elif resultado > 8 and resultado <100:\n",
    "    print(\"sí jala pa\")\n",
    "else:\n",
    "    print(\"no jala pa\")"
   ]
  },
  {
   "cell_type": "markdown",
   "metadata": {},
   "source": [
    "Ternario"
   ]
  },
  {
   "cell_type": "code",
   "execution_count": 13,
   "metadata": {},
   "outputs": [
    {
     "name": "stdout",
     "output_type": "stream",
     "text": [
      "6 Rojo\n"
     ]
    }
   ],
   "source": [
    "calificaion = 6\n",
    "color = 'Verde' if calificaion >= 7 else 'Rojo'\n",
    "print(calificaion,color)"
   ]
  },
  {
   "cell_type": "markdown",
   "metadata": {},
   "source": [
    "Asignar valores mediante operadores lógicos"
   ]
  },
  {
   "cell_type": "code",
   "execution_count": 31,
   "metadata": {},
   "outputs": [
    {
     "name": "stdout",
     "output_type": "stream",
     "text": [
      "cody\n"
     ]
    }
   ],
   "source": [
    "Listado = []\n",
    "nombre = 'cody'\n",
    "\"\"\"\n",
    "if Listado:\n",
    "    variable = Listado\n",
    "else:\n",
    "    variable = nombre\n",
    "\"\"\"\n",
    "variable = Listado or nombre\n",
    "print(variable)"
   ]
  },
  {
   "cell_type": "markdown",
   "metadata": {},
   "source": [
    "While"
   ]
  },
  {
   "cell_type": "code",
   "execution_count": null,
   "metadata": {},
   "outputs": [],
   "source": [
    "\"\"\"contador = 1\n",
    "while contador <= 10:\n",
    "    \n",
    "    print(contador)\n",
    "\n",
    "    contador = contador + 1\n",
    "    \"\"\"\n",
    "num = 1234\n",
    "contador = 0\n",
    "while num >= 1:\n",
    "    contador += 1\n",
    "    num = num / 10\n",
    "print(contador)\n",
    "print(num)"
   ]
  },
  {
   "cell_type": "markdown",
   "metadata": {},
   "source": [
    "Foreach"
   ]
  },
  {
   "cell_type": "code",
   "execution_count": null,
   "metadata": {},
   "outputs": [],
   "source": [
    "usuarios = ['usario1', 'usuario2', 'usuario3', 'usuario4']\n",
    "for i in usuarios:\n",
    "    print(i)"
   ]
  },
  {
   "cell_type": "markdown",
   "metadata": {},
   "source": [
    "Break"
   ]
  },
  {
   "cell_type": "code",
   "execution_count": 59,
   "metadata": {},
   "outputs": [
    {
     "name": "stdout",
     "output_type": "stream",
     "text": [
      "c\n"
     ]
    }
   ],
   "source": [
    "hola = 'como has estado'\n",
    "\n",
    "for i in hola:\n",
    "    if i.lower() == 'o': #break para pausar y continue para eliminar\n",
    "        break\n",
    "    print(i)"
   ]
  }
 ],
 "metadata": {
  "kernelspec": {
   "display_name": "Python 3",
   "language": "python",
   "name": "python3"
  },
  "language_info": {
   "codemirror_mode": {
    "name": "ipython",
    "version": 3
   },
   "file_extension": ".py",
   "mimetype": "text/x-python",
   "name": "python",
   "nbconvert_exporter": "python",
   "pygments_lexer": "ipython3",
   "version": "3.11.4"
  },
  "orig_nbformat": 4
 },
 "nbformat": 4,
 "nbformat_minor": 2
}
