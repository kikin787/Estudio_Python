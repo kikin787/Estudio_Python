{
 "cells": [
  {
   "cell_type": "code",
   "execution_count": 1,
   "metadata": {},
   "outputs": [
    {
     "ename": "ConnectionRefusedError",
     "evalue": "[WinError 10061] No se puede establecer una conexión ya que el equipo de destino denegó expresamente dicha conexión",
     "output_type": "error",
     "traceback": [
      "\u001b[1;31m---------------------------------------------------------------------------\u001b[0m",
      "\u001b[1;31mConnectionRefusedError\u001b[0m                    Traceback (most recent call last)",
      "\u001b[1;32mc:\\Users\\velez\\OneDrive\\Documentos\\Python\\Redes_Cli.ipynb Cell 1\u001b[0m line \u001b[0;36m1\n\u001b[0;32m     <a href='vscode-notebook-cell:/c%3A/Users/velez/OneDrive/Documentos/Python/Redes_Cli.ipynb#W0sZmlsZQ%3D%3D?line=9'>10</a>\u001b[0m \u001b[39m# Inicializar el cliente\u001b[39;00m\n\u001b[0;32m     <a href='vscode-notebook-cell:/c%3A/Users/velez/OneDrive/Documentos/Python/Redes_Cli.ipynb#W0sZmlsZQ%3D%3D?line=10'>11</a>\u001b[0m client_socket \u001b[39m=\u001b[39m socket\u001b[39m.\u001b[39msocket(socket\u001b[39m.\u001b[39mAF_INET, socket\u001b[39m.\u001b[39mSOCK_STREAM)\n\u001b[1;32m---> <a href='vscode-notebook-cell:/c%3A/Users/velez/OneDrive/Documentos/Python/Redes_Cli.ipynb#W0sZmlsZQ%3D%3D?line=11'>12</a>\u001b[0m client_socket\u001b[39m.\u001b[39;49mconnect((server_ip, server_port))\n\u001b[0;32m     <a href='vscode-notebook-cell:/c%3A/Users/velez/OneDrive/Documentos/Python/Redes_Cli.ipynb#W0sZmlsZQ%3D%3D?line=13'>14</a>\u001b[0m \u001b[39m# Función para recibir la clave de cifrado y el ID de cliente\u001b[39;00m\n\u001b[0;32m     <a href='vscode-notebook-cell:/c%3A/Users/velez/OneDrive/Documentos/Python/Redes_Cli.ipynb#W0sZmlsZQ%3D%3D?line=14'>15</a>\u001b[0m \u001b[39mdef\u001b[39;00m \u001b[39mreceive_session_info\u001b[39m():\n",
      "\u001b[1;31mConnectionRefusedError\u001b[0m: [WinError 10061] No se puede establecer una conexión ya que el equipo de destino denegó expresamente dicha conexión"
     ]
    }
   ],
   "source": [
    "import socket\n",
    "from Crypto.Cipher import AES\n",
    "from Crypto.Random import get_random_bytes\n",
    "import pickle\n",
    "\n",
    "# Configuración del cliente\n",
    "server_ip = '127.0.0.1'\n",
    "server_port = 12345\n",
    "\n",
    "# Inicializar el cliente\n",
    "client_socket = socket.socket(socket.AF_INET, socket.SOCK_STREAM)\n",
    "client_socket.connect((server_ip, server_port))\n",
    "\n",
    "# Función para recibir la clave de cifrado y el ID de cliente\n",
    "def receive_session_info():\n",
    "    client_id = int(client_socket.recv(1024).decode())\n",
    "    encrypted_key = client_socket.recv(1024)\n",
    "    encryption_key = pickle.loads(encrypted_key)\n",
    "    return client_id, encryption_key\n",
    "\n",
    "# Recibir información de sesión\n",
    "client_id, encryption_key = receive_session_info()\n",
    "\n",
    "# Función para cifrar un mensaje utilizando el cifrado AES\n",
    "def encrypt_message(message, key):\n",
    "    nonce = get_random_bytes(16)\n",
    "    cipher = AES.new(key, AES.MODE_EAX, nonce=nonce)\n",
    "    encrypted_message, tag = cipher.encrypt_and_digest(message)\n",
    "    return nonce + encrypted_message\n",
    "\n",
    "# Enviar un mensaje cifrado al servidor\n",
    "message = \"Hola, servidor.\"\n",
    "encrypted_message = encrypt_message(message.encode(), encryption_key)\n",
    "client_socket.send(encrypted_message)\n",
    "\n",
    "# Aquí puedes agregar lógica para recibir y descifrar mensajes del servidor\n"
   ]
  }
 ],
 "metadata": {
  "kernelspec": {
   "display_name": "Python 3",
   "language": "python",
   "name": "python3"
  },
  "language_info": {
   "codemirror_mode": {
    "name": "ipython",
    "version": 3
   },
   "file_extension": ".py",
   "mimetype": "text/x-python",
   "name": "python",
   "nbconvert_exporter": "python",
   "pygments_lexer": "ipython3",
   "version": "3.11.4"
  }
 },
 "nbformat": 4,
 "nbformat_minor": 2
}
