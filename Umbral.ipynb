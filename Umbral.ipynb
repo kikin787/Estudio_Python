{
 "cells": [
  {
   "cell_type": "code",
   "execution_count": 2,
   "metadata": {},
   "outputs": [
    {
     "name": "stdout",
     "output_type": "stream",
     "text": [
      "IMAGEN ORIGINAL\n",
      "Alto:  360 Ancho:  640 Canales:  3\n"
     ]
    }
   ],
   "source": [
    "import cv2 as cv\n",
    "import numpy as np\n",
    "from matplotlib import pyplot as plt\n",
    "frame = cv.imread('GOAT.jpg')\n",
    "frame = cv.resize(frame, (640, 360))    \n",
    "h, w , c = frame.shape\n",
    "print(\"IMAGEN ORIGINAL\")\n",
    "print(\"Alto: \", h, \"Ancho: \", w, \"Canales: \", c)"
   ]
  },
  {
   "cell_type": "code",
   "execution_count": 3,
   "metadata": {},
   "outputs": [],
   "source": [
    "frame_gray = cv.cvtColor(frame, cv.COLOR_BGR2GRAY)\n",
    "matriz_gray = np.array(frame_gray)\n",
    "np.savetxt(\"gray_GOAT.txt\", matriz_gray, fmt='%d')"
   ]
  },
  {
   "cell_type": "code",
   "execution_count": 5,
   "metadata": {},
   "outputs": [
    {
     "data": {
      "image/png": "[encoded data removed]",
      "text/plain": [
       "<Figure size 640x480 with 1 Axes>"
      ]
     },
     "metadata": {},
     "output_type": "display_data"
    }
   ],
   "source": [
    "vector_img = matriz_gray.ravel()\n",
    "plt.hist(vector_img, bins=256, range=[0,256])\n",
    "plt.title('Histograma de la imagen sobel gris')\n",
    "plt.show()"
   ]
  },
  {
   "cell_type": "code",
   "execution_count": 6,
   "metadata": {},
   "outputs": [],
   "source": [
    "umbral = 150\n",
    "for i in range(matriz_gray.shape[0]):\n",
    "    for j in range(matriz_gray.shape[1]):\n",
    "        if matriz_gray[i][j] > umbral:\n",
    "            matriz_gray[i][j] = 255\n",
    "        else:\n",
    "            matriz_gray[i][j] = 0"
   ]
  },
  {
   "cell_type": "code",
   "execution_count": 8,
   "metadata": {},
   "outputs": [],
   "source": [
    "cv.imwrite('umbral_GOAT.jpg', matriz_gray)\n",
    "imagen_binaria = cv.imread('umbral_GOAT.jpg')\n",
    "frame_bin = cv.adaptiveThreshold(frame_gray, 255, cv.ADAPTIVE_THRESH_GAUSSIAN_C, cv.THRESH_BINARY, 11, 2)\n",
    "_, frame_bin2 = cv.threshold(frame_gray, 0, 255, cv.THRESH_BINARY+cv.THRESH_OTSU)"
   ]
  },
  {
   "cell_type": "code",
   "execution_count": 1,
   "metadata": {},
   "outputs": [
    {
     "ename": "NameError",
     "evalue": "name 'cv' is not defined",
     "output_type": "error",
     "traceback": [
      "\u001b[1;31m---------------------------------------------------------------------------\u001b[0m",
      "\u001b[1;31mNameError\u001b[0m                                 Traceback (most recent call last)",
      "Cell \u001b[1;32mIn[1], line 4\u001b[0m\n\u001b[0;32m      1\u001b[0m \u001b[38;5;28;01mdef\u001b[39;00m \u001b[38;5;21mpaso\u001b[39m(x):\n\u001b[0;32m      2\u001b[0m     \u001b[38;5;28;01mpass\u001b[39;00m\n\u001b[1;32m----> 4\u001b[0m \u001b[43mcv\u001b[49m\u001b[38;5;241m.\u001b[39mnamedWindow(\u001b[38;5;124m'\u001b[39m\u001b[38;5;124mBinario Movil\u001b[39m\u001b[38;5;124m'\u001b[39m)\n\u001b[0;32m      5\u001b[0m cv\u001b[38;5;241m.\u001b[39mcreateTrackbar(\u001b[38;5;124m'\u001b[39m\u001b[38;5;124mumbral\u001b[39m\u001b[38;5;124m'\u001b[39m, \u001b[38;5;124m'\u001b[39m\u001b[38;5;124mBinario Movil\u001b[39m\u001b[38;5;124m'\u001b[39m, \u001b[38;5;241m1\u001b[39m, \u001b[38;5;241m255\u001b[39m, paso)\n\u001b[0;32m      6\u001b[0m \u001b[38;5;28;01mwhile\u001b[39;00m \u001b[38;5;28;01mTrue\u001b[39;00m:\n",
      "\u001b[1;31mNameError\u001b[0m: name 'cv' is not defined"
     ]
    }
   ],
   "source": [
    "import cv2 as cv\n",
    "def paso(x):\n",
    "    pass\n",
    "\n",
    "cv.namedWindow('Binario Movil')\n",
    "cv.createTrackbar('umbral', 'Binario Movil', 1, 255, paso)\n",
    "while True:\n",
    "    cv.imshow('Original', frame)\n",
    "    cv.moveWindow('Original', 0, 0)\n",
    "\n",
    "    cv.imshow('Gray', frame_gray)\n",
    "    cv.moveWindow('Gray', w, 0)\n",
    "\n",
    "    cv.imshow('Umbral', imagen_binaria)\n",
    "    cv.moveWindow('Umbral', 2*w, 0)\n",
    "\n",
    "    cv.imshow('Binaria', frame_bin)\n",
    "    cv.moveWindow('Binaria', 0, h+190)\n",
    "\n",
    "    cv.imshow('Binaria2', frame_bin2)\n",
    "    cv.moveWindow('Binaria2', w, h+190)\n",
    "\n",
    "    um = cv.getTrackbarPos('umbral', 'Binario Movil')\n",
    "    _, frame_movil_bin = cv.threshold(frame_gray, um, 255, cv.THRESH_BINARY)\n",
    "    cv.imshow('Binario Movil', frame_movil_bin)\n",
    "    cv.moveWindow('Binario Movil', 2*w, h+190)\n",
    "\n",
    "    k = cv.waitKey(60)\n",
    "    if k == ord('q'):\n",
    "        break\n",
    "cv.destroyAllWindows()"
   ]
  }
 ],
 "metadata": {
  "kernelspec": {
   "display_name": "Python 3",
   "language": "python",
   "name": "python3"
  },
  "language_info": {
   "codemirror_mode": {
    "name": "ipython",
    "version": 3
   },
   "file_extension": ".py",
   "mimetype": "text/x-python",
   "name": "python",
   "nbconvert_exporter": "python",
   "pygments_lexer": "ipython3",
   "version": "3.11.4"
  }
 },
 "nbformat": 4,
 "nbformat_minor": 2
}
