{
 "cells": [
  {
   "cell_type": "code",
   "execution_count": null,
   "metadata": {},
   "outputs": [],
   "source": [
    "def op(cantidad, balance, tipo=1):\n",
    "    \n",
    "    def depo(cantidad, balance):\n",
    "        return cantidad + balance\n",
    "    \n",
    "\n",
    "    def retiro(cantidad, balance):\n",
    "        if cantidad <= balance:\n",
    "            return balance - cantidad\n",
    "        else:\n",
    "            return None\n",
    "    \n",
    "\n",
    "    if tipo == 1:\n",
    "        return depo(cantidad, balance)\n",
    "    elif tipo == 2:\n",
    "        return retiro(cantidad,balance)\n",
    "\n",
    "ele = int(input('1. Depositar 2. Retirar.'))\n",
    "can = int(input('Cantidad: '))\n",
    "bal = int(input('Balance anterior'))\n",
    "op(can,bal, ele)\n"
   ]
  }
 ],
 "metadata": {
  "kernelspec": {
   "display_name": "Python 3",
   "language": "python",
   "name": "python3"
  },
  "language_info": {
   "codemirror_mode": {
    "name": "ipython",
    "version": 3
   },
   "file_extension": ".py",
   "mimetype": "text/x-python",
   "name": "python",
   "nbconvert_exporter": "python",
   "pygments_lexer": "ipython3",
   "version": "3.11.4"
  },
  "orig_nbformat": 4
 },
 "nbformat": 4,
 "nbformat_minor": 2
}
