import networkx as nx
import matplotlib.pyplot as plt

# Define el grafo
graph = {
    (0, 0): [(1, 0), (0, 1)],
    (1, 0): [(2, 0)],
    (0, 1): [(0, 2)],
    (0, 2): [(1, 2)],
    (1, 2): [(2, 2)],
    (2, 0): [(2, 1)],
    (2, 1): [(2, 2)]
}

# Crea un objeto de grafo de NetworkX
G = nx.Graph()

# Agrega nodos y conexiones al grafo
for node, neighbors in graph.items():
    G.add_node(node)
    for neighbor in neighbors:
        G.add_edge(node, neighbor)

# Dibuja el grafo
pos = nx.spring_layout(G, seed=42)  # Asigna posiciones para los nodos
nx.draw(G, pos, with_labels=True, node_size=500, node_color='lightblue', font_size=10, font_color='black')
plt.title("Representación del Grafo")
plt.axis('off')  # Oculta los ejes
plt.show()
