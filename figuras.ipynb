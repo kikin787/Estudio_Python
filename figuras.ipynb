{
 "cells": [
  {
   "cell_type": "markdown",
   "metadata": {},
   "source": [
    "<style>\n",
    "html, body, p{\n",
    "    text-align: justify !important;\n",
    "    text-justify: inter-word !important;\n",
    "    font-size:22px !important;\n",
    "}\n",
    "\n",
    ".centrado{\n",
    "    display:flex;\n",
    "    align-items:center;\n",
    "    justify-content:center;\n",
    "    flex-direction:column;\n",
    "    font-size:30px;\n",
    "}\n",
    "</style>\n",
    "\n",
    "<div class=\"centrado\"><img src=\"https://estadisticaccbas.uaa.mx/pluginfile.php/2/course/section/1/LOGOBENEMERITA_CIRCULAR.png?time=1606497553373\" style=\"max-width: 508px;\"></div>\n",
    "\n",
    "<div class=\"centrado\">\n",
    "\n",
    "<b>Alumno</b>\n",
    "\n",
    "Vélez Durán Enrique\n",
    "\n",
    "279600\n",
    "\n",
    "8 - A\n",
    "\n",
    "Ingeniería en Computación Inteligente\n",
    "\n",
    "Centro de Ciencias Básicas\n",
    "\n",
    "<b>Tarea</b>\n",
    "\n",
    "Práctica 7: Traslación 1\n",
    "\n",
    "25 de marzo de 2024\n",
    "</div>"
   ]
  },
  {
   "cell_type": "markdown",
   "metadata": {},
   "source": [
    "## Declaración de librerías"
   ]
  },
  {
   "cell_type": "code",
   "execution_count": 47,
   "metadata": {},
   "outputs": [],
   "source": [
    "\n",
    "import matplotlib.pyplot as kikin"
   ]
  },
  {
   "cell_type": "markdown",
   "metadata": {},
   "source": [
    "## Declaración del tamaño de nuestro cuadrado"
   ]
  },
  {
   "cell_type": "code",
   "execution_count": 48,
   "metadata": {},
   "outputs": [],
   "source": [
    "# Definir los puntos de un cuadrado\n",
    "lado = 6 # longitud de cada lado\n",
    "x_cuadrado = [0, lado, lado, 0, 0]\n",
    "y_cuadrado = [0, 0, lado, lado, 0]"
   ]
  },
  {
   "cell_type": "markdown",
   "metadata": {},
   "source": [
    "## Definición de traslación en eje x y y"
   ]
  },
  {
   "cell_type": "code",
   "execution_count": 49,
   "metadata": {},
   "outputs": [],
   "source": [
    "# Definir el vector de traslación\n",
    "tx = 8 # traslación en el eje x\n",
    "ty = 8 # traslación en el eje y"
   ]
  },
  {
   "cell_type": "markdown",
   "metadata": {},
   "source": [
    "## Aplicación de la traslación al segundo cuadrado"
   ]
  },
  {
   "cell_type": "code",
   "execution_count": 50,
   "metadata": {},
   "outputs": [],
   "source": [
    "# Aplicar la transformación de traslación al cuadrado\n",
    "x_traslado = [xi + tx for xi in x_cuadrado]\n",
    "y_traslado = [yi + ty for yi in y_cuadrado]"
   ]
  },
  {
   "cell_type": "markdown",
   "metadata": {},
   "source": [
    "## Impresión de ambos cuadrados"
   ]
  },
  {
   "cell_type": "code",
   "execution_count": 51,
   "metadata": {},
   "outputs": [
    {
     "data": {
      "image/png": "[encoded data removed]",
      "text/plain": [
       "<Figure size 800x800 with 1 Axes>"
      ]
     },
     "metadata": {},
     "output_type": "display_data"
    }
   ],
   "source": [
    "kikin.figure(figsize=(8, 8))\n",
    "kikin.fill(x_cuadrado, y_cuadrado, color='darkblue')\n",
    "kikin.fill(x_traslado, y_traslado, color='red')\n",
    "kikin.title('Cuadrado y su traslación')\n",
    "kikin.axis('equal')\n",
    "kikin.show()"
   ]
  }
 ],
 "metadata": {
  "kernelspec": {
   "display_name": "Python 3",
   "language": "python",
   "name": "python3"
  },
  "language_info": {
   "codemirror_mode": {
    "name": "ipython",
    "version": 3
   },
   "file_extension": ".py",
   "mimetype": "text/x-python",
   "name": "python",
   "nbconvert_exporter": "python",
   "pygments_lexer": "ipython3",
   "version": "3.11.8"
  }
 },
 "nbformat": 4,
 "nbformat_minor": 2
}
