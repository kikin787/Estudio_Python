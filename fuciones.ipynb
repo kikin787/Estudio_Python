{
 "cells": [
  {
   "cell_type": "markdown",
   "metadata": {},
   "source": [
    "funciones"
   ]
  },
  {
   "cell_type": "code",
   "execution_count": null,
   "metadata": {},
   "outputs": [],
   "source": [
    "def suma():\n",
    "    numero = int(input('Ingresa el primer numero'))\n",
    "    num2 = int(input('Ingresa el segundo numero: '))\n",
    "    resultado = numero + num2\n",
    "    print(resultado)\n",
    "\n",
    "suma()\n",
    "suma()\n",
    "suma()"
   ]
  },
  {
   "cell_type": "code",
   "execution_count": 10,
   "metadata": {},
   "outputs": [
    {
     "name": "stdout",
     "output_type": "stream",
     "text": [
      "44\n"
     ]
    }
   ],
   "source": [
    "def sum(k,n):\n",
    "    resultado = k + n\n",
    "    print(resultado)\n",
    "    \n",
    "n = int(input('Num 1: '))\n",
    "n1 = int(input('Num2: '))\n",
    "\n",
    "sum(n,n1)"
   ]
  },
  {
   "cell_type": "markdown",
   "metadata": {},
   "source": [
    "Retornar valores"
   ]
  },
  {
   "cell_type": "code",
   "execution_count": null,
   "metadata": {},
   "outputs": [],
   "source": [
    "def sumas(n,k):\n",
    "    return n + k, 'La función es de dos valors'\n",
    "nu = int(input('Num 1: '))\n",
    "nu2 = int(input('Num2: '))\n",
    "\n",
    "resul, men = sumas(nu, nu2)\n",
    "print('El resultado es',resul)\n",
    "print(men)"
   ]
  },
  {
   "cell_type": "markdown",
   "metadata": {},
   "source": [
    "Parámetros opcionales"
   ]
  },
  {
   "cell_type": "code",
   "execution_count": null,
   "metadata": {},
   "outputs": [],
   "source": [
    "def area(radio, pi=3.1416):\n",
    "    return pi*(radio ** 2)\n",
    "\n",
    "res = area(radio=10)\n",
    "print(res)"
   ]
  },
  {
   "cell_type": "markdown",
   "metadata": {},
   "source": [
    "Argumentos"
   ]
  }
 ],
 "metadata": {
  "kernelspec": {
   "display_name": "Python 3",
   "language": "python",
   "name": "python3"
  },
  "language_info": {
   "codemirror_mode": {
    "name": "ipython",
    "version": 3
   },
   "file_extension": ".py",
   "mimetype": "text/x-python",
   "name": "python",
   "nbconvert_exporter": "python",
   "pygments_lexer": "ipython3",
   "version": "3.11.4"
  },
  "orig_nbformat": 4
 },
 "nbformat": 4,
 "nbformat_minor": 2
}
