{
 "cells": [
  {
   "cell_type": "code",
   "execution_count": null,
   "metadata": {},
   "outputs": [],
   "source": [
    "import socket\n",
    "import pickle\n",
    "\n",
    "# Configuración del cliente\n",
    "server_ip = '127.0.0.1'\n",
    "server_port = 12345\n",
    "\n",
    "# Inicializar el cliente\n",
    "client_socket = socket.socket(socket.AF_INET, socket.SOCK_STREAM)\n",
    "client_socket.connect((server_ip, server_port))\n",
    "\n",
    "# Función para recibir la clave de cifrado y el ID de cliente\n",
    "def receive_session_info():\n",
    "    client_id = int(client_socket.recv(1024).decode())\n",
    "    encrypted_key = client_socket.recv(1024)\n",
    "    encryption_key = pickle.loads(encrypted_key)\n",
    "    return client_id, encryption_key\n",
    "\n",
    "# Recibir información de sesión\n",
    "client_id, encryption_key = receive_session_info()\n",
    "\n",
    "# Función para cifrar un mensaje utilizando el cifrado básico\n",
    "def encrypt_message(message, key):\n",
    "    # Cifrado simple XOR\n",
    "    encrypted_message = bytes([m ^ k for m, k in zip(message, key)])\n",
    "    return encrypted_message\n",
    "\n",
    "# Enviar un mensaje cifrado al servidor\n",
    "message = \"Hola, servidor.\"\n",
    "encrypted_message = encrypt_message(message.encode(), encryption_key)\n",
    "client_socket.send(encrypted_message)\n",
    "\n",
    "# Aquí puedes agregar lógica para recibir y descifrar mensajes del servidor"
   ]
  }
 ],
 "metadata": {
  "language_info": {
   "name": "python"
  }
 },
 "nbformat": 4,
 "nbformat_minor": 2
}
