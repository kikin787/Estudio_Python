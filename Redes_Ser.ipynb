{
 "cells": [
  {
   "cell_type": "code",
   "execution_count": 6,
   "metadata": {},
   "outputs": [
    {
     "name": "stdout",
     "output_type": "stream",
     "text": [
      "Servidor en 10.1.1.1:12346\n",
      "Conexión entrante desde ('10.1.1.3', 62422)\n",
      "Mensaje del cliente 1: Belligooooooooooooooool Belligol Bellingham, E Ele O Illuminado, Do Bellingham, Mas Pode Chamalo de Belligol, O Inicio Avassalador Em La Liga\n",
      "Conexión entrante desde ('10.1.1.2', 59020)\n"
     ]
    }
   ],
   "source": [
    "import socket\n",
    "from Crypto.Cipher import AES\n",
    "from Crypto.Random import get_random_bytes\n",
    "import pickle\n",
    "\n",
    "# Configuración del servidor\n",
    "server_ip = '10.1.1.1'\n",
    "server_port = 12346\n",
    "\n",
    "# Generar una clave aleatoria para cifrado AES\n",
    "encryption_key = get_random_bytes(16)\n",
    "\n",
    "# Inicializar el servidor\n",
    "server_socket = socket.socket(socket.AF_INET, socket.SOCK_STREAM)\n",
    "server_socket.bind((server_ip, server_port))\n",
    "server_socket.listen(5)\n",
    "\n",
    "print(f\"Servidor en {server_ip}:{server_port}\")\n",
    "\n",
    "# Función para otorgar una nueva sesión a un cliente\n",
    "def grant_new_session(client_socket):\n",
    "    # Generar un ID de cliente único\n",
    "    client_id = len(client_sessions) + 1\n",
    "\n",
    "    # Enviar el ID del cliente al cliente\n",
    "    client_socket.send(str(client_id).encode())\n",
    "\n",
    "    # Serializar y enviar la clave de cifrado al cliente\n",
    "    encrypted_key = pickle.dumps(encryption_key)\n",
    "    client_socket.send(encrypted_key)\n",
    "\n",
    "    # Agregar la sesión del cliente al diccionario\n",
    "    client_sessions[client_id] = client_socket\n",
    "\n",
    "# Diccionario para mantener las sesiones de los clientes\n",
    "client_sessions = {}\n",
    "\n",
    "# Esperar conexiones entrantes\n",
    "while True:\n",
    "    client_socket, client_address = server_socket.accept()\n",
    "    print(f\"Conexión entrante desde {client_address}\")\n",
    "    grant_new_session(client_socket)\n",
    "\n",
    "    # Ejemplo de cómo recibir un mensaje del cliente\n",
    "    client_id = len(client_sessions)\n",
    "    encrypted_message = client_sessions[client_id].recv(1024)\n",
    "    cipher = AES.new(encryption_key, AES.MODE_EAX, nonce=encrypted_message[:16])\n",
    "    decrypted_message = cipher.decrypt(encrypted_message[16:])\n",
    "    print(f\"Mensaje del cliente {client_id}: {decrypted_message.decode()}\")"
   ]
  }
 ],
 "metadata": {
  "kernelspec": {
   "display_name": "Python 3",
   "language": "python",
   "name": "python3"
  },
  "language_info": {
   "codemirror_mode": {
    "name": "ipython",
    "version": 3
   },
   "file_extension": ".py",
   "mimetype": "text/x-python",
   "name": "python",
   "nbconvert_exporter": "python",
   "pygments_lexer": "ipython3",
   "version": "3.11.4"
  }
 },
 "nbformat": 4,
 "nbformat_minor": 2
}
