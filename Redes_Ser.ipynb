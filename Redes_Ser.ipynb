{
 "cells": [
  {
   "cell_type": "code",
   "execution_count": 4,
   "metadata": {},
   "outputs": [
    {
     "name": "stdout",
     "output_type": "stream",
     "text": [
      "Servidor en 10.1.1.1:1212\n"
     ]
    },
    {
     "name": "stdout",
     "output_type": "stream",
     "text": [
      "Cliente 1 conectado desde ('10.1.1.2', 57546), clave: b8b5bd5162e22020454a6b2ff295002a\n",
      "Cliente 2 conectado desde ('10.1.1.3', 54173), clave: 689783fa5d7f0882bf39b32201725804\n",
      "Mensaje del Cliente 2: b8b5bd5162e22020454a6b2ff295002a:hola\n",
      "Mensaje del Cliente 1: import socket:pendejo\n",
      "Mensaje del Cliente 1: :import threadingserver_ip = '10.1.1.1':# Configuración del cliente:server_port = 1212client_socket = socket.socket(socket.AF_INET, socket.SOCK_STREAM):# Inicializar el cliente:client_socket.connect((server_ip, server_port))def send_messages()::# Función para enviar mensajes al servidor        message = input(\"Ingrese un mensaje: \"):    while True:        # Aquí se debe enviar el mensaje junto con la clave del destinatario:        message_with_key = f\"{destination_key}:{message}\":        destination_key = input(\"Ingrese la clave del destinatario: \"):        client_socket.send(message_with_key.encode())def receive_messages()::# Función para recibir mensajes del servidor        try::    while True:            if not message::            message = client_socket.recv(1024):                break:            print(f\"Mensaje recibido: {message.decode()}\")            print(f\"Error al recibir mensaje del servidor: {e}\"):        except Exception as e::            breakclients_info = client_socket.recv(1024).decode(\n",
      "Mensaje del Cliente 1: ):# Recibir información del servidor (lista de clientes y sus claves):print(f\"Clientes disponibles: {clients_info}\")send_thread = threading.Thread(target=send_messages):# Iniciar hilos para enviar y recibir mensajes:receive_thread = threading.Thread(target=receive_messages)receive_thread.start():send_thread.start()# Esperar a que los hilos finalicen (esto nunca ocurrirá en este ejemplo):\n",
      "Mensaje del Cliente 1: receive_thread.join():send_thread.join()\n",
      "Mensaje del Cliente 1: :\n",
      "Mensaje del Cliente 2: gad:pendeja\n",
      "Mensaje del Cliente 2: ada:daf\n",
      "Mensaje del Cliente 2: sd:df\n",
      "Error al recibir mensaje del Cliente 1: [WinError 10054] Se ha forzado la interrupción de una conexión existente por el host remoto\n",
      "Cliente 1 desconectado\n",
      "Cliente 2 conectado desde ('10.1.1.2', 57598), clave: 8d71b0e7a26f91b70bfd118039b9ce7c\n",
      "Mensaje del Cliente 2: dfg:rg\n",
      "Mensaje del Cliente 2: dg:fdgf\n",
      "Mensaje del Cliente 2: g:fh\n",
      "Mensaje del Cliente 2: d:h\n",
      "Mensaje del Cliente 2: :df\n",
      "Mensaje del Cliente 2: 8d71b0e7a26f91b70bfd118039b9ce7c:Hola\n",
      "Mensaje del Cliente 2: 8d71b0e7a26f91b70bfd118039b9ce7c:pendejos\n",
      "Mensaje del Cliente 2: b8b5bd5162e22020454a6b2ff295002a:huihk\n",
      "Error al recibir mensaje del Cliente 2: [WinError 10054] Se ha forzado la interrupción de una conexión existente por el host remoto\n",
      "Cliente 2 desconectado\n"
     ]
    },
    {
     "name": "stderr",
     "output_type": "stream",
     "text": [
      "Exception in thread Thread-8 (handle_client):\n",
      "Traceback (most recent call last):\n",
      "  File \"c:\\Users\\velez\\AppData\\Local\\Programs\\Python\\Python311\\Lib\\threading.py\", line 1038, in _bootstrap_inner\n",
      "    self.run()\n",
      "  File \"c:\\Users\\velez\\AppData\\Local\\Programs\\Python\\Python311\\Lib\\threading.py\", line 975, in run\n",
      "    self._target(*self._args, **self._kwargs)\n",
      "  File \"C:\\Users\\velez\\AppData\\Local\\Temp\\ipykernel_8056\\4045103760.py\", line 56, in handle_client\n",
      "KeyError: 2\n"
     ]
    },
    {
     "name": "stdout",
     "output_type": "stream",
     "text": [
      "Error al recibir mensaje del Cliente 2: [WinError 10054] Se ha forzado la interrupción de una conexión existente por el host remoto\n",
      "Cliente 1 conectado desde ('10.1.1.3', 54238), clave: 66f72b0091e7888195b6a7efb5ad61f6\n",
      "Mensaje del Cliente 1: 66f72b0091e7888195b6a7efb5ad61f6:Hola\n",
      "Mensaje del Cliente 2: :\n",
      "Mensaje del Cliente 2: :\n",
      "Mensaje del Cliente 2: :\n",
      "Mensaje del Cliente 2: :\n",
      "Mensaje del Cliente 2: :\n",
      "Mensaje del Cliente 2: :\n",
      "Mensaje del Cliente 2: Pendejo:\n",
      "Mensaje del Cliente 2: :\n",
      "Mensaje del Cliente 2: :\n",
      "Mensaje del Cliente 2: as:as\n",
      "Mensaje del Cliente 2: as:as\n",
      "Mensaje del Cliente 2: as:as\n",
      "Mensaje del Cliente 2: as:as\n",
      "Mensaje del Cliente 2: asa:as\n",
      "Mensaje del Cliente 2: sa:sa\n",
      "Mensaje del Cliente 2: s:sa\n",
      "Mensaje del Cliente 2: as:as\n",
      "Mensaje del Cliente 2: as:as\n",
      "Mensaje del Cliente 2: pendejos:apedneoj\n",
      "Mensaje del Cliente 1: :Va\n",
      "Mensaje del Cliente 1: :sdasas\n",
      "Mensaje del Cliente 1: dvca:hola\n",
      "Mensaje del Cliente 2: aaaa:pendejos\n",
      "Mensaje del Cliente 2: aaaa:aaaa\n",
      "Mensaje del Cliente 1: sas:sa\n",
      "Mensaje del Cliente 1: dfa:sdas\n",
      "Mensaje del Cliente 1: asda:sds\n",
      "Mensaje del Cliente 1: asdas:sas\n",
      "Mensaje del Cliente 1: sdas:sdaw\n"
     ]
    },
    {
     "name": "stderr",
     "output_type": "stream",
     "text": [
      "Exception in thread Thread-15 (handle_client):\n",
      "Traceback (most recent call last):\n",
      "  File \"c:\\Users\\velez\\AppData\\Local\\Programs\\Python\\Python311\\Lib\\threading.py\", line 1038, in _bootstrap_inner\n",
      "    self.run()\n",
      "  File \"c:\\Users\\velez\\AppData\\Local\\Programs\\Python\\Python311\\Lib\\threading.py\", line 975, in run\n",
      "    self._target(*self._args, **self._kwargs)\n",
      "  File \"C:\\Users\\velez\\AppData\\Local\\Temp\\ipykernel_8056\\1429989541.py\", line 56, in handle_client\n",
      "KeyError: 2\n"
     ]
    },
    {
     "name": "stdout",
     "output_type": "stream",
     "text": [
      "Error al recibir mensaje del Cliente 2: [WinError 10054] Se ha forzado la interrupción de una conexión existente por el host remoto\n",
      "Cliente 2 conectado desde ('10.1.1.2', 57650), clave: 12d4ae1aea5cca50855733854fad3334\n",
      "Error al recibir mensaje del Cliente 1: [WinError 10054] Se ha forzado la interrupción de una conexión existente por el host remoto\n",
      "Cliente 1 desconectado\n",
      "Cliente 2 conectado desde ('10.1.1.3', 54317), clave: 7941a6ca3aa77d104468ca90e8e92c5e\n"
     ]
    },
    {
     "name": "stderr",
     "output_type": "stream",
     "text": [
      "Exception in thread Thread-18 (handle_client):\n",
      "Traceback (most recent call last):\n",
      "  File \"c:\\Users\\velez\\AppData\\Local\\Programs\\Python\\Python311\\Lib\\threading.py\", line 1038, in _bootstrap_inner\n",
      "    self.run()\n",
      "  File \"c:\\Users\\velez\\AppData\\Local\\Programs\\Python\\Python311\\Lib\\threading.py\", line 975, in run\n",
      "    self._target(*self._args, **self._kwargs)\n",
      "  File \"C:\\Users\\velez\\AppData\\Local\\Temp\\ipykernel_8056\\1429989541.py\", line 56, in handle_client\n",
      "KeyError: 2\n"
     ]
    },
    {
     "name": "stdout",
     "output_type": "stream",
     "text": [
      "Error al recibir mensaje del Cliente 2: [WinError 10053] Se ha anulado una conexión establecida por el software en su equipo hostError al recibir mensaje del Cliente 2: [WinError 10053] Se ha anulado una conexión establecida por el software en su equipo host\n",
      "\n",
      "Cliente 2 desconectado\n"
     ]
    }
   ],
   "source": [
    "import socket\n",
    "import threading\n",
    "import secrets\n",
    "\n",
    "# Configuración del servidor\n",
    "server_ip = '10.1.1.1'\n",
    "server_port = 1212\n",
    "\n",
    "# Inicializar el servidor\n",
    "server_socket = socket.socket(socket.AF_INET, socket.SOCK_STREAM)\n",
    "server_socket.bind((server_ip, server_port))\n",
    "server_socket.listen(5)\n",
    "\n",
    "print(f\"Servidor en {server_ip}:{server_port}\")\n",
    "\n",
    "# Diccionario para mantener las sesiones de los clientes y sus claves\n",
    "client_sessions = {}\n",
    "\n",
    "# Función para manejar las conexiones de los clientes\n",
    "def handle_client(client_socket, client_address):\n",
    "    # Otorgar nueva sesión y clave al cliente\n",
    "    client_id = len(client_sessions) + 1\n",
    "    client_key = secrets.token_hex(16)  # Generar una clave única\n",
    "\n",
    "    # Agregar la sesión del cliente al diccionario con su clave\n",
    "    client_sessions[client_id] = (client_socket, client_key)\n",
    "\n",
    "    print(f\"Cliente {client_id} conectado desde {client_address}, clave: {client_key}\")\n",
    "\n",
    "    # Enviar lista de clientes y claves al cliente recién conectado\n",
    "    clients_info = \", \".join([f\"Cliente {id}: {key}\" for id, (_, key) in client_sessions.items()])\n",
    "    client_socket.send(clients_info.encode())\n",
    "\n",
    "    # Resto del código para manejar mensajes y conexiones\n",
    "    while True:\n",
    "        try:\n",
    "            message = client_socket.recv(1024)\n",
    "            if not message:\n",
    "                break\n",
    "\n",
    "            print(f\"Mensaje del Cliente {client_id}: {message.decode()}\")\n",
    "\n",
    "            # Reenviar mensaje a otros clientes\n",
    "            for other_client_id, (other_client_socket, _) in client_sessions.items():\n",
    "                if other_client_id != client_id:\n",
    "                    try:\n",
    "                        other_client_socket.send(message)\n",
    "                    except Exception as e:\n",
    "                        print(f\"Error al reenviar mensaje al Cliente {other_client_id}: {e}\")\n",
    "\n",
    "        except Exception as e:\n",
    "            print(f\"Error al recibir mensaje del Cliente {client_id}: {e}\")\n",
    "            break\n",
    "\n",
    "    # Cerrar conexión con el cliente\n",
    "    del client_sessions[client_id]\n",
    "    client_socket.close()\n",
    "    print(f\"Cliente {client_id} desconectado\")\n",
    "\n",
    "# Función para manejar las conexiones entrantes\n",
    "def accept_connections():\n",
    "    while True:\n",
    "        client_socket, client_address = server_socket.accept()\n",
    "\n",
    "        # Iniciar un hilo para manejar la conexión del cliente\n",
    "        client_thread = threading.Thread(target=handle_client, args=(client_socket, client_address))\n",
    "        client_thread.start()\n",
    "\n",
    "# Iniciar hilo para aceptar conexiones entrantes\n",
    "accept_thread = threading.Thread(target=accept_connections)\n",
    "accept_thread.start()"
   ]
  }
 ],
 "metadata": {
  "kernelspec": {
   "display_name": "Python 3",
   "language": "python",
   "name": "python3"
  },
  "language_info": {
   "codemirror_mode": {
    "name": "ipython",
    "version": 3
   },
   "file_extension": ".py",
   "mimetype": "text/x-python",
   "name": "python",
   "nbconvert_exporter": "python",
   "pygments_lexer": "ipython3",
   "version": "3.11.4"
  }
 },
 "nbformat": 4,
 "nbformat_minor": 2
}
