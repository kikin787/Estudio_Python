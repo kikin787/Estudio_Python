{
 "cells": [
  {
   "cell_type": "code",
   "execution_count": 40,
   "metadata": {},
   "outputs": [],
   "source": [
    "import numpy as np\n",
    "import pandas as pd\n",
    "import torch\n",
    "import torch.nn as nn\n",
    "import torch.optim as optim\n",
    "from sklearn.feature_extraction.text import TfidfVectorizer\n",
    "from sklearn.model_selection import train_test_split\n",
    "from sklearn.metrics import accuracy_score, classification_report, confusion_matrix\n",
    "import seaborn as sns\n",
    "import matplotlib.pyplot as plt\n",
    "from gensim.models import Word2Vec\n"
   ]
  },
  {
   "cell_type": "code",
   "execution_count": 41,
   "metadata": {},
   "outputs": [],
   "source": [
    "# Cargar dataset de ejemplo (ajustar según el dataset real)\n",
    "df = pd.read_csv('movie_data.csv')  # Asegúrate de reemplazar con tu archivo real\n",
    "df = df[['review', 'sentiment']]  # Suponiendo que \"review\" es el texto y \"label\" es la categoría\n"
   ]
  },
  {
   "cell_type": "code",
   "execution_count": 42,
   "metadata": {},
   "outputs": [
    {
     "name": "stderr",
     "output_type": "stream",
     "text": [
      "[nltk_data] Downloading package stopwords to\n",
      "[nltk_data]     C:\\Users\\velez\\AppData\\Roaming\\nltk_data...\n",
      "[nltk_data]   Package stopwords is already up-to-date!\n"
     ]
    }
   ],
   "source": [
    "import re\n",
    "import nltk\n",
    "from nltk.corpus import stopwords\n",
    "nltk.download('stopwords')\n",
    "stop_words = set(stopwords.words('english'))\n",
    "\n",
    "# Función de limpieza de texto\n",
    "def preprocess_text(text):\n",
    "    text = text.lower()\n",
    "    text = re.sub(r'\\W', ' ', text)  # Quitar caracteres especiales\n",
    "    text = re.sub(r'\\s+', ' ', text).strip()  # Quitar espacios extra\n",
    "    text = ' '.join(word for word in text.split() if word not in stop_words)  # Quitar stopwords\n",
    "    return text\n",
    "\n",
    "df['processed_review'] = df['review'].apply(preprocess_text)\n"
   ]
  },
  {
   "cell_type": "code",
   "execution_count": 43,
   "metadata": {},
   "outputs": [],
   "source": [
    "vectorizer = TfidfVectorizer(max_features=5000)\n",
    "X_tfidf = vectorizer.fit_transform(df['processed_review']).toarray()\n",
    "y = df['sentiment'].values"
   ]
  },
  {
   "cell_type": "code",
   "execution_count": 44,
   "metadata": {},
   "outputs": [],
   "source": [
    "X_train, X_test, y_train, y_test = train_test_split(X_tfidf, y, test_size=0.2, random_state=42)"
   ]
  },
  {
   "cell_type": "code",
   "execution_count": 45,
   "metadata": {},
   "outputs": [],
   "source": [
    "device = torch.device('cuda' if torch.cuda.is_available() else 'cpu')\n",
    "\n",
    "# Convertir a tensores\n",
    "X_train_tensor = torch.tensor(X_train, dtype=torch.float32).to(device)\n",
    "X_test_tensor = torch.tensor(X_test, dtype=torch.float32).to(device)\n",
    "y_train_tensor = torch.tensor(y_train, dtype=torch.float32).view(-1, 1).to(device)\n",
    "y_test_tensor = torch.tensor(y_test, dtype=torch.float32).view(-1, 1).to(device)"
   ]
  },
  {
   "cell_type": "code",
   "execution_count": 46,
   "metadata": {},
   "outputs": [],
   "source": [
    "class NNBPClassifier(nn.Module):\n",
    "    def __init__(self, input_dim, hidden_dim):\n",
    "        super(NNBPClassifier, self).__init__()\n",
    "        self.fc1 = nn.Linear(input_dim, hidden_dim)\n",
    "        self.relu = nn.ReLU()\n",
    "        self.fc2 = nn.Linear(hidden_dim, 1)\n",
    "        self.sigmoid = nn.Sigmoid()\n",
    "    \n",
    "    def forward(self, x):\n",
    "        x = self.fc1(x)\n",
    "        x = self.relu(x)\n",
    "        x = self.fc2(x)\n",
    "        x = self.sigmoid(x)\n",
    "        return x\n",
    "\n",
    "# Inicializar modelo\n",
    "hidden_dim = 64\n",
    "model = NNBPClassifier(X_train.shape[1], hidden_dim).to(device)"
   ]
  },
  {
   "cell_type": "code",
   "execution_count": 47,
   "metadata": {},
   "outputs": [],
   "source": [
    "class NNBPClassifier(nn.Module):\n",
    "    def __init__(self, input_dim, hidden_dim):\n",
    "        super(NNBPClassifier, self).__init__()\n",
    "        self.fc1 = nn.Linear(input_dim, hidden_dim)\n",
    "        self.relu = nn.ReLU()\n",
    "        self.fc2 = nn.Linear(hidden_dim, 1)\n",
    "        self.sigmoid = nn.Sigmoid()\n",
    "    \n",
    "    def forward(self, x):\n",
    "        x = self.fc1(x)\n",
    "        x = self.relu(x)\n",
    "        x = self.fc2(x)\n",
    "        x = self.sigmoid(x)\n",
    "        return x\n",
    "\n",
    "# Inicializar modelo\n",
    "hidden_dim = 64\n",
    "model = NNBPClassifier(X_train.shape[1], hidden_dim).to(device)"
   ]
  },
  {
   "cell_type": "code",
   "execution_count": 48,
   "metadata": {},
   "outputs": [
    {
     "name": "stdout",
     "output_type": "stream",
     "text": [
      "Epoch [1/10], Loss: 0.6934\n",
      "Epoch [2/10], Loss: 0.6918\n",
      "Epoch [3/10], Loss: 0.6900\n",
      "Epoch [4/10], Loss: 0.6877\n",
      "Epoch [5/10], Loss: 0.6852\n",
      "Epoch [6/10], Loss: 0.6825\n",
      "Epoch [7/10], Loss: 0.6798\n",
      "Epoch [8/10], Loss: 0.6771\n",
      "Epoch [9/10], Loss: 0.6743\n",
      "Epoch [10/10], Loss: 0.6714\n"
     ]
    }
   ],
   "source": [
    "criterion = nn.BCELoss()\n",
    "optimizer = optim.Adam(model.parameters(), lr=0.001)\n",
    "\n",
    "epochs = 10\n",
    "for epoch in range(epochs):\n",
    "    optimizer.zero_grad()\n",
    "    outputs = model(X_train_tensor)\n",
    "    loss = criterion(outputs, y_train_tensor)\n",
    "    loss.backward()\n",
    "    optimizer.step()\n",
    "    print(f'Epoch [{epoch+1}/{epochs}], Loss: {loss.item():.4f}')"
   ]
  },
  {
   "cell_type": "code",
   "execution_count": 49,
   "metadata": {},
   "outputs": [
    {
     "name": "stdout",
     "output_type": "stream",
     "text": [
      "Vocabulario de Word2Vec: 62968 palabras\n"
     ]
    }
   ],
   "source": [
    "# Tokenizar los textos ya preprocesados\n",
    "tokenized_reviews = [text.split() for text in df['processed_review']]\n",
    "\n",
    "# Entrenar modelo Word2Vec con Skip-Gram\n",
    "w2v_model = Word2Vec(sentences=tokenized_reviews, vector_size=100, window=5, sg=1, min_count=2, workers=4)\n",
    "\n",
    "# Obtener embeddings para cada palabra\n",
    "word_vectors = w2v_model.wv\n",
    "\n",
    "# Verificar tamaño del vocabulario de Word2Vec\n",
    "print(f'Vocabulario de Word2Vec: {len(word_vectors)} palabras')"
   ]
  },
  {
   "cell_type": "code",
   "execution_count": 50,
   "metadata": {},
   "outputs": [],
   "source": [
    "# Función para obtener embeddings promedio por documento\n",
    "def document_vector(tokens, model):\n",
    "    vectors = [model[word] for word in tokens if word in model]\n",
    "    return np.mean(vectors, axis=0) if vectors else np.zeros(model.vector_size)\n",
    "\n",
    "# Convertir cada review a su vector promedio\n",
    "X_w2v = np.array([document_vector(tokens, word_vectors) for tokens in tokenized_reviews])\n",
    "\n",
    "# Dividir en entrenamiento y prueba\n",
    "X_train_w2v, X_test_w2v, y_train_w2v, y_test_w2v = train_test_split(X_w2v, y, test_size=0.2, random_state=42)\n",
    "\n",
    "# Convertir a tensores\n",
    "X_train_w2v_tensor = torch.tensor(X_train_w2v, dtype=torch.float32).to(device)\n",
    "X_test_w2v_tensor = torch.tensor(X_test_w2v, dtype=torch.float32).to(device)\n",
    "y_train_w2v_tensor = torch.tensor(y_train_w2v, dtype=torch.float32).view(-1, 1).to(device)\n",
    "y_test_w2v_tensor = torch.tensor(y_test_w2v, dtype=torch.float32).view(-1, 1).to(device)"
   ]
  },
  {
   "cell_type": "code",
   "execution_count": 51,
   "metadata": {},
   "outputs": [
    {
     "name": "stdout",
     "output_type": "stream",
     "text": [
      "Epoch [1/10], Loss: 0.6934\n",
      "Epoch [2/10], Loss: 0.6919\n",
      "Epoch [3/10], Loss: 0.6906\n",
      "Epoch [4/10], Loss: 0.6894\n",
      "Epoch [5/10], Loss: 0.6884\n",
      "Epoch [6/10], Loss: 0.6874\n",
      "Epoch [7/10], Loss: 0.6865\n",
      "Epoch [8/10], Loss: 0.6856\n",
      "Epoch [9/10], Loss: 0.6848\n",
      "Epoch [10/10], Loss: 0.6839\n"
     ]
    }
   ],
   "source": [
    "# Inicializar nuevo modelo NNBP para Word2Vec\n",
    "model_w2v = NNBPClassifier(X_train_w2v.shape[1], hidden_dim).to(device)\n",
    "\n",
    "# Definir función de pérdida y optimizador\n",
    "criterion = nn.BCELoss()\n",
    "optimizer = optim.Adam(model_w2v.parameters(), lr=0.001)\n",
    "\n",
    "# Entrenar modelo con Word2Vec\n",
    "epochs = 10\n",
    "for epoch in range(epochs):\n",
    "    optimizer.zero_grad()\n",
    "    outputs = model_w2v(X_train_w2v_tensor)\n",
    "    loss = criterion(outputs, y_train_w2v_tensor)\n",
    "    loss.backward()\n",
    "    optimizer.step()\n",
    "    print(f'Epoch [{epoch+1}/{epochs}], Loss: {loss.item():.4f}')"
   ]
  },
  {
   "cell_type": "code",
   "execution_count": 52,
   "metadata": {},
   "outputs": [
    {
     "name": "stdout",
     "output_type": "stream",
     "text": [
      "Accuracy (NNBP con Word2Vec): 0.6304\n",
      "              precision    recall  f1-score   support\n",
      "\n",
      "         0.0       0.58      0.97      0.72      5034\n",
      "         1.0       0.89      0.29      0.44      4966\n",
      "\n",
      "    accuracy                           0.63     10000\n",
      "   macro avg       0.74      0.63      0.58     10000\n",
      "weighted avg       0.73      0.63      0.58     10000\n",
      "\n"
     ]
    }
   ],
   "source": [
    "# Evaluar modelo con Word2Vec\n",
    "with torch.no_grad():\n",
    "    y_pred_w2v = model_w2v(X_test_w2v_tensor)\n",
    "    y_pred_w2v_labels = (y_pred_w2v >= 0.5).float()\n",
    "    accuracy_w2v = accuracy_score(y_test_w2v_tensor.cpu(), y_pred_w2v_labels.cpu())\n",
    "\n",
    "print(f'Accuracy (NNBP con Word2Vec): {accuracy_w2v:.4f}')\n",
    "print(classification_report(y_test_w2v_tensor.cpu(), y_pred_w2v_labels.cpu()))"
   ]
  },
  {
   "cell_type": "code",
   "execution_count": 53,
   "metadata": {},
   "outputs": [
    {
     "name": "stdout",
     "output_type": "stream",
     "text": [
      "Accuracy con TF-IDF: 0.7987\n"
     ]
    }
   ],
   "source": [
    "with torch.no_grad():\n",
    "    y_pred_tfidf = model(X_test_tensor)\n",
    "    y_pred_tfidf_labels = (y_pred_tfidf >= 0.5).float()\n",
    "    accuracy_tfidf = accuracy_score(y_test_tensor.cpu(), y_pred_tfidf_labels.cpu())\n",
    "\n",
    "print(f'Accuracy con TF-IDF: {accuracy_tfidf:.4f}')\n"
   ]
  },
  {
   "cell_type": "code",
   "execution_count": 54,
   "metadata": {},
   "outputs": [
    {
     "name": "stdout",
     "output_type": "stream",
     "text": [
      "Accuracy con TF-IDF: 0.7987\n",
      "Accuracy con Word2Vec: 0.6304\n"
     ]
    },
    {
     "data": {
      "image/png": "[encoded data removed]",
      "text/plain": [
       "<Figure size 800x600 with 2 Axes>"
      ]
     },
     "metadata": {},
     "output_type": "display_data"
    }
   ],
   "source": [
    "# Comparar Accuracy\n",
    "print(f'Accuracy con TF-IDF: {accuracy_tfidf:.4f}')\n",
    "print(f'Accuracy con Word2Vec: {accuracy_w2v:.4f}')\n",
    "\n",
    "# Comparar Matriz de Confusión\n",
    "cm_w2v = confusion_matrix(y_test_w2v_tensor.cpu(), y_pred_w2v_labels.cpu())\n",
    "\n",
    "plt.figure(figsize=(8, 6))\n",
    "sns.heatmap(cm_w2v, annot=True, fmt='d', cmap='Blues', xticklabels=['Neg', 'Pos'], yticklabels=['Neg', 'Pos'])\n",
    "plt.xlabel('Predicted')\n",
    "plt.ylabel('Actual')\n",
    "plt.title('Confusion Matrix (NNBP con Word2Vec)')\n",
    "plt.show()"
   ]
  }
 ],
 "metadata": {
  "language_info": {
   "name": "python"
  }
 },
 "nbformat": 4,
 "nbformat_minor": 2
}
