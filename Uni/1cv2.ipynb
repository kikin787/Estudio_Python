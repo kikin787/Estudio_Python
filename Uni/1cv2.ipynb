{
 "cells": [
  {
   "cell_type": "code",
   "execution_count": 4,
   "metadata": {},
   "outputs": [],
   "source": [
    "import cv2\n",
    "# imagen = cv2.imread(\"GOAT.jpg\")\n",
    "# cv2.imshow('ventana1', imagen)\n",
    "# cv2.waitKey(0)\n",
    "# cv2.destroyAllWindows()\n",
    "\n",
    "# cv2.imwrite('imagenGuardar.jpg',imagen) #sirver para guardar la imagen\n",
    "\n",
    "img = cv2.imread('GOAT.jpg', cv2.IMREAD_GRAYSCALE) #Se puede utilizar en lugar de grayscale un 0\n",
    "\n",
    "cv2.imshow('imagen en escala de grises', img)\n",
    "\n",
    "cv2.waitKey()\n",
    "cv2.destroyAllWindows()\n"
   ]
  },
  {
   "cell_type": "code",
   "execution_count": 1,
   "metadata": {},
   "outputs": [],
   "source": [
    "import cv2\n",
    "img = cv2.imread(\"GOAT.jpg\")\n",
    "img2 = cv2.imread(\"GOAT.jpg\",0)\n",
    "\n",
    "while True:\n",
    "    cv2.imshow(\"color\",img)\n",
    "    cv2.imshow(\"grises\",img2)\n",
    "\n",
    "    key = cv2.waitKey()\n",
    "\n",
    "    if key == ord('g'):\n",
    "        cv2.imwrite('imagenGuardarda.png', img2)\n",
    "\n",
    "    \n",
    "    if key == ord('c'):\n",
    "        cv2.imwrite('imagenGuardarda.png', img)\n",
    "\n",
    "    else:\n",
    "        break\n",
    "cv2.destroyAllWindows()"
   ]
  },
  {
   "cell_type": "code",
   "execution_count": 7,
   "metadata": {},
   "outputs": [],
   "source": [
    "import cv2\n",
    "\n",
    "img = cv2.imread('GOAT.jpg')\n",
    "img2 = cv2.imread('GOAT.jpg', 0)\n",
    "\n",
    "cv2.imshow('ventana1', img)\n",
    "\n",
    "while True:\n",
    "\n",
    "    key = cv2.waitKey()\n",
    "\n",
    "    if key == ord(\"4\"):\n",
    "        cv2.imshow('im1',img)\n",
    "    if key == ord(\"6\"):\n",
    "        cv2.imshow('im1',img2)\n",
    "    else:\n",
    "        break\n",
    "\n",
    "cv2.destroyAllWindows()\n",
    "\n"
   ]
  }
 ],
 "metadata": {
  "kernelspec": {
   "display_name": "Python 3",
   "language": "python",
   "name": "python3"
  },
  "language_info": {
   "codemirror_mode": {
    "name": "ipython",
    "version": 3
   },
   "file_extension": ".py",
   "mimetype": "text/x-python",
   "name": "python",
   "nbconvert_exporter": "python",
   "pygments_lexer": "ipython3",
   "version": "3.11.4"
  }
 },
 "nbformat": 4,
 "nbformat_minor": 2
}
