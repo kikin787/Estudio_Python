{
 "cells": [
  {
   "cell_type": "markdown",
   "metadata": {},
   "source": [
    "<style>\n",
    "html, body, p{\n",
    "    text-align: justify !important;\n",
    "    text-justify: inter-word !important;\n",
    "    font-size:22px !important;\n",
    "}\n",
    "\n",
    ".centrado{\n",
    "    display:flex;\n",
    "    align-items:center;\n",
    "    justify-content:center;\n",
    "    flex-direction:column;\n",
    "    font-size:30px;\n",
    "}\n",
    "</style>\n",
    "\n",
    "<div class=\"centrado\"><img src=\"https://estadisticaccbas.uaa.mx/pluginfile.php/2/course/section/1/LOGOBENEMERITA_CIRCULAR.png?time=1606497553373\" style=\"max-width: 508px;\"></div>\n",
    "\n",
    "<div class=\"centrado\">\n",
    "\n",
    "<b>Alumnos</b>\n",
    "\n",
    "<p>Gabriel Melchor Campos  243455</p>\n",
    "<p>Carlos Fernando Nájera Ruiz 243950</p>\n",
    "<p>Alejandro Robledo Rangel 244560</p>\n",
    "<p>Vélez Durán Enrique 279600</p>\n",
    "\n",
    "8 - A\n",
    "\n",
    "Ingeniería en Computación Inteligente\n",
    "\n",
    "Centro de Ciencias Básicas\n",
    "\n",
    "<b>Proyecto</b>\n",
    "\n",
    "Proyecto 2do Parcial\n",
    "\n",
    "28 de Abril del 2024\n",
    "</div>"
   ]
  },
  {
   "cell_type": "markdown",
   "metadata": {},
   "source": [
    "## Bibliotecas"
   ]
  },
  {
   "cell_type": "code",
   "execution_count": 55,
   "metadata": {},
   "outputs": [],
   "source": [
    "import numpy as np\n",
    "import matplotlib.pyplot as plt\n",
    "from mpl_toolkits.mplot3d import Axes3D"
   ]
  },
  {
   "cell_type": "markdown",
   "metadata": {},
   "source": [
    "## Función para rotación 2D `rotacion_2D`\n",
    "### Rota un punto alrededor de un centro dado en nuestro plano XY, tomará las coordenadas del punto, el ángulo de rotación al igual que su centro, devolverá las nuevas coordenadas del punto después de aplicar dicha rotación. Utiliza formulas trigonométricas para calcular las nuevas coordendas basadas en ángulo de rotación y su centro. "
   ]
  },
  {
   "cell_type": "code",
   "execution_count": 56,
   "metadata": {},
   "outputs": [],
   "source": [
    "def rotacion_2D(punto, angulo, centro):\n",
    "    x, y = punto\n",
    "    cx, cy = centro\n",
    "    angulo_rad = np.radians(angulo)\n",
    "    x_rotacion = cx + np.cos(angulo_rad) * (x - cx) - np.sin(angulo_rad) * (y - cy)\n",
    "    y_rotacion = cy + np.sin(angulo_rad) * (x - cx) + np.cos(angulo_rad) * (y - cy)\n",
    "    return x_rotacion, y_rotacion"
   ]
  },
  {
   "cell_type": "markdown",
   "metadata": {},
   "source": [
    "## Función para impresión rotación 2D `plot_figura_2D`\n",
    "### Grafica los dos puntos del plano 2D: la figura original junto con su nueva rotacón"
   ]
  },
  {
   "cell_type": "code",
   "execution_count": 57,
   "metadata": {},
   "outputs": [],
   "source": [
    "def plot_figura_2D(puntos, puntos_transformados, centro, transformacion):\n",
    "    plt.figure()\n",
    "    plt.plot([p[0] for p in puntos], [p[1] for p in puntos], label='Original')\n",
    "    plt.plot([p[0] for p in puntos_transformados], [p[1] for p in puntos_transformados], label=transformacion)\n",
    "    plt.plot(centro[0], centro[1], 'ro', label='Centro de Transformacion', color=\"purple\")  \n",
    "    plt.xlabel('X')\n",
    "    plt.ylabel('Y')\n",
    "    plt.title('2D - ' + transformacion)\n",
    "    plt.legend()\n",
    "    plt.axis('equal')\n",
    "    plt.show()"
   ]
  },
  {
   "cell_type": "markdown",
   "metadata": {},
   "source": [
    "## Función para rotación 3D `rotacion_3D`\n",
    "### Rota un punto en un espacio tridimensional alrededor de un centro dado. Toma las coordenadas del punto, el ángulo de rotación y el centro de la rotación. Devuelve las nuevas coordenadas del punto después de aplicar la rotación. Utiliza una matriz de rotación tridimensional basada en el ángulo de rotación y el centro de rotación para calcular las nuevas coordenadas."
   ]
  },
  {
   "cell_type": "code",
   "execution_count": 58,
   "metadata": {},
   "outputs": [],
   "source": [
    "def rotacion_3D(punto, angulo, centro):\n",
    "    x, y, z = punto\n",
    "    cx, cy, cz = centro\n",
    "    angulo_rad = np.radians(angulo)\n",
    "    rotacion_matriz = np.array([[np.cos(angulo_rad), -np.sin(angulo_rad), 0],\n",
    "                                [np.sin(angulo_rad), np.cos(angulo_rad), 0],\n",
    "                                [0, 0, 1]])\n",
    "    rotacion_punto = np.dot(rotacion_matriz, np.array([x - cx, y - cy, z - cz])) + np.array([cx, cy, cz])\n",
    "    return rotacion_punto"
   ]
  },
  {
   "cell_type": "markdown",
   "metadata": {},
   "source": [
    "## Función para impresión rotación 3D `plot_figura_3D`\n",
    "### Grafica los dos puntos del plano 3D: la figura original junto con su nueva rotacón"
   ]
  },
  {
   "cell_type": "code",
   "execution_count": 59,
   "metadata": {},
   "outputs": [],
   "source": [
    "def plot_figura_3D(puntos, puntos_rotados, centro, transformacion):\n",
    "    fig = plt.figure()\n",
    "    ax = fig.add_subplot(111, projection='3d')\n",
    "    ax.plot([p[0] for p in puntos], [p[1] for p in puntos], [p[2] for p in puntos], label='Original', color='blue')\n",
    "    ax.plot([p[0] for p in puntos_rotados], [p[1] for p in puntos_rotados], [p[2] for p in puntos_rotados], label=transformacion, color='red')\n",
    "    ax.scatter(centro[0], centro[1], centro[2], label='Centro de Transformacion', color='yellow')\n",
    "    for i in range(0, len(puntos)//2):\n",
    "        if puntos[i] != (-1, 4, 0) and puntos[i+len(puntos)//2] != (-1, 2, 0.5):\n",
    "            ax.plot([puntos[i][0], puntos[i+len(puntos)//2][0]], \n",
    "                    [puntos[i][1], puntos[i+len(puntos)//2][1]], \n",
    "                    [puntos[i][2], puntos[i+len(puntos)//2][2]], color='blue')\n",
    "            ax.plot([puntos_rotados[i][0], puntos_rotados[i+len(puntos)//2][0]], \n",
    "                    [puntos_rotados[i][1], puntos_rotados[i+len(puntos)//2][1]], \n",
    "                    [puntos_rotados[i][2], puntos_rotados[i+len(puntos)//2][2]], color='red')\n",
    "    ax.set_xlabel('X')\n",
    "    ax.set_ylabel('Y')\n",
    "    ax.set_zlabel('Z')\n",
    "    ax.set_title(transformacion + ' 3D')\n",
    "    ax.legend(loc='upper center', bbox_to_anchor=(0.5, 1.15), shadow=True, ncol=2)\n",
    "    plt.show()"
   ]
  },
  {
   "cell_type": "markdown",
   "metadata": {},
   "source": [
    "## Función para espejo en 2D `espejo_2D`\n",
    "### Toma una lista de puntos en el plano 2D y devuelve una nueva lsita donde cada punto ha sido reflejado sobre el eje X, invirtiendo solo su coordenada Y"
   ]
  },
  {
   "cell_type": "code",
   "execution_count": 60,
   "metadata": {},
   "outputs": [],
   "source": [
    "def espejo_2D(puntos):\n",
    "    puntos_espejo = []\n",
    "    puntos_espejoX = []\n",
    "    for punto in puntos:\n",
    "        # puntos_espejo.append((punto[0], -punto[1]))\n",
    "        puntos_espejoX.append((-punto[0], punto[1]))\n",
    "    return puntos_espejo, puntos_espejoX"
   ]
  },
  {
   "cell_type": "markdown",
   "metadata": {},
   "source": [
    "## Función para espejo en 3D `espejo_3D`\n",
    "### Toma una lsita de puntos en el espacio tridimensional y devuelve una nueva lsita donde cada punto ha sido reflejado sobre el plano XY, invirtiendo solo su coordenada Z."
   ]
  },
  {
   "cell_type": "code",
   "execution_count": 61,
   "metadata": {},
   "outputs": [],
   "source": [
    "def espejo_3D(puntos):\n",
    "    puntos_espejo = []\n",
    "    for punto in puntos:\n",
    "        puntos_espejo.append((punto[0], punto[1], -punto[2]))\n",
    "    return puntos_espejo"
   ]
  },
  {
   "cell_type": "markdown",
   "metadata": {},
   "source": [
    "## La función `trasladar_puntos`\n",
    "### Funciona tanto como para 2D como para 3D. Toma una lista de puntos y los desplaza en el espacio. Si los puntos son 2D, se desplazan en el plano XY agregando las coordenadas `tx` y `ty`. Si son puntos en 3D, se desplazan en el espacio tridimensional agregando las coordenadas `tx`, `ty`, y opcionalmente `tz`. Si los puntos no son ni 2D ni 3D, la función genera un error.\n"
   ]
  },
  {
   "cell_type": "code",
   "execution_count": 62,
   "metadata": {},
   "outputs": [],
   "source": [
    "def trasladar_puntos(puntos, tx, ty, tz=0):\n",
    "    if len(puntos[0]) == 2:  # Si los puntos son 2D\n",
    "        puntos_traslados = [(p[0] + tx, p[1] + ty) for p in puntos]\n",
    "    elif len(puntos[0]) == 3:  # Si los puntos son 3D\n",
    "        puntos_traslados = [(p[0] + tx, p[1] + ty, p[2] + tz) for p in puntos]\n",
    "    else:\n",
    "        raise ValueError(\"Los puntos deben ser 2D o 3D.\")\n",
    "    return puntos_traslados"
   ]
  },
  {
   "cell_type": "markdown",
   "metadata": {},
   "source": [
    "## Despliegue del menu"
   ]
  },
  {
   "cell_type": "markdown",
   "metadata": {},
   "source": [
    "## En caso de elegir 1, accederemos a 2D"
   ]
  },
  {
   "cell_type": "markdown",
   "metadata": {},
   "source": [
    "## Nos mostrará el menu de que tipo de transfomación elegiremos\n",
    "### Para traslación es el número 1. Después de esto nos preguntará que tanto queremos trasladarlo de X y de Y.\n",
    "### Después está ingresada la figura para facilitar la ejecución de nuestro código.\n",
    "### Ya solamente llamamos nuestra función correspondiente\n",
    "### Para rotación es el número 2. Ingresamos el angulo de rotación que queremos que tenga nuestra nueva figura. También tenemos una figura ya iniciada, para evitar repetir esto. Todas nuestras opciones tienen ya una figura definiada tanto como para 2D como para 3D. \n",
    "### Para finalizar solo llamamos nuestra función correspondiente.\n",
    "### En el último caso tenemos el de espejo que es la opcion 3. Este con seleccionarlo se ejecutará el programa solo, ya que solo habla a su función correspondiente"
   ]
  },
  {
   "cell_type": "markdown",
   "metadata": {},
   "source": [
    "## En caso de elegir 2, accederemos a 3D"
   ]
  },
  {
   "cell_type": "markdown",
   "metadata": {},
   "source": [
    "## Nos mostrará el menu de que tipo de transfomación elegiremos\n",
    "### Para traslación es el número 1. Después de esto nos preguntará que tanto queremos trasladarlo de X, de Y y de Z.\n",
    "### Después está ingresada la figura para facilitar la ejecución de nuestro código.\n",
    "### Ya solamente llamamos nuestra función correspondiente\n",
    "### Para rotación es el número 2. Ingresamos el angulo de rotación que queremos que tenga nuestra nueva figura.\n",
    "### Para finalizar solo llamamos nuestra función correspondiente.\n",
    "### En el último caso tenemos el de espejo que es la opcion 3. Este con seleccionarlo se ejecutará el programa solo, ya que este solo llama la función correspondiente "
   ]
  },
  {
   "cell_type": "code",
   "execution_count": 66,
   "metadata": {},
   "outputs": [
    {
     "name": "stderr",
     "output_type": "stream",
     "text": [
      "C:\\Users\\Kikin\\AppData\\Local\\Temp\\ipykernel_28040\\2456697891.py:5: UserWarning: color is redundantly defined by the 'color' keyword argument and the fmt string \"ro\" (-> color='r'). The keyword argument will take precedence.\n",
      "  plt.plot(centro[0], centro[1], 'ro', label='Centro de Transformacion', color=\"purple\")\n"
     ]
    },
    {
     "data": {
      "image/png": "[encoded data removed]",
      "text/plain": [
       "<Figure size 640x480 with 1 Axes>"
      ]
     },
     "metadata": {},
     "output_type": "display_data"
    }
   ],
   "source": [
    "opcion = input(\"Selecciona la dimensión (1: 2D, 2: 3D): \")\n",
    "if opcion == '1':\n",
    "    opcion_2D = input(\"Selecciona la transformación (1: traslación, 2: rotación, 3: espejo): \")\n",
    "\n",
    "    if opcion_2D == '1':\n",
    "        tx = float(input(\"Ingrese el desplazamiento en el eje X: \"))\n",
    "        ty = float(input(\"Ingrese el desplazamiento en el eje Y: \"))\n",
    "        puntos_figura_2D = [(-1, 1), (-1, -4), (-5, -4), (-5, 2), (0, 5), (5, 2), (5, -4), (1, -4), (1, 1), (-1, 1)]\n",
    "        centro_2D = (0, 0)\n",
    "        puntos_traslados_2D = trasladar_puntos(puntos_figura_2D, tx, ty)\n",
    "        plot_figura_2D(puntos_figura_2D, puntos_traslados_2D, centro_2D, 'Traslacion')\n",
    "        \n",
    "    elif opcion_2D == '2':\n",
    "        angulo = float(input(\"Ingrese el ángulo de rotación en grados: \"))\n",
    "        puntos_figura_2D = [(-1, 1), (-1, -4), (-5, -4), (-5, 2), (0, 5), (5, 2), (5, -4), (1, -4), (1, 1), (-1, 1)]\n",
    "        centro_2D = (0, 0)\n",
    "        puntos_rotados_2D = [rotacion_2D(punto, angulo, centro_2D) for punto in puntos_figura_2D]\n",
    "        plot_figura_2D(puntos_figura_2D, puntos_rotados_2D, centro_2D, 'Rotacion')\n",
    "\n",
    "    elif opcion_2D == '3':\n",
    "        puntos_figura_2D = [(-1, 1), (-1, -4), (-5, -4), (-5, 2), (0, 5), (5, 2), (5, -4), (1, -4), (1, 1), (-1, 1)]\n",
    "        puntos_espejo_2D = espejo_2D(puntos_figura_2D)\n",
    "        centro_2D = (0, 0)\n",
    "        plot_figura_2D(puntos_figura_2D, puntos_espejo_2D, centro_2D, 'Espejo')\n",
    "\n",
    "    else:\n",
    "        print(\"Opción inválida.\")\n",
    "\n",
    "elif opcion == '2':\n",
    "    opcion_3D = input(\"Selecciona la transformación (1: traslación, 2: rotación, 3: espejo): \")\n",
    "\n",
    "    if opcion_3D == '1':\n",
    "        tx = float(input(\"Ingrese el desplazamiento en el eje X: \"))\n",
    "        ty = float(input(\"Ingrese el desplazamiento en el eje Y: \"))\n",
    "        tz = float(input(\"Ingrese el desplazamiento en el eje Z: \"))\n",
    "\n",
    "        # Definir los puntos de la casa en 3D\n",
    "        puntos_figura_3D = [\n",
    "            (0, 0, 0), (0, 5, 0), (2, 7, 0), (4, 5, 0), (4, 0, 0),  # Base de la casa\n",
    "            (0, 0, 4), (0, 5, 4), (2, 7, 4), (4, 5, 4), (4, 0, 4),  # Techo de la casa\n",
    "            (1.5, 2.5, 0), (2.5, 2.5, 0), (2.5, 0.5, 0), (1.5, 0.5, 0),  # Puerta\n",
    "            (3.5, 3.5, 0), (3.5, 4.5, 0), (3.5, 4.5, 1), (3.5, 3.5, 1),  # Ventana\n",
    "            (0.5, 3.5, 1), (0.5, 4.5, 1), (0.5, 4.5, 0.5), (0.5, 3.5, 0.5)  # Ventana\n",
    "        ]\n",
    "\n",
    "        # Aplicar la traslación a los puntos de la casa en 3D\n",
    "        puntos_traslados_3D = trasladar_puntos(puntos_figura_3D, tx, ty, tz)\n",
    "\n",
    "        # Definir el centro de la casa trasladada\n",
    "        centro_3D = (2 + tx, 2.5 + ty, 2 + tz)\n",
    "\n",
    "        # Graficar la casa original y su traslación\n",
    "        plot_figura_3D(puntos_figura_3D, puntos_traslados_3D, centro_3D, 'Traslacion')\n",
    "\n",
    "    elif opcion_3D == '2':\n",
    "        angulo = float(input(\"Ingrese el ángulo de rotación en grados: \"))\n",
    "        puntos_figura_3D = [\n",
    "            (0, 0, 0), (0, 5, 0), (2, 7, 0), (4, 5, 0), (4, 0, 0), # Base de la casa\n",
    "            (0, 0, 4), (0, 5, 4), (2, 7, 4), (4, 5, 4), (4, 0, 4), # Techo de la casa\n",
    "            (1.5, 2.5, 0), (2.5, 2.5, 0), (2.5, 0.5, 0), (1.5, 0.5, 0), # Puerta\n",
    "            (3.5, 3.5, 0), (3.5, 4.5, 0), (3.5, 4.5, 1), (3.5, 3.5, 1), # Ventana\n",
    "            (0.5, 3.5, 1), (0.5, 4.5, 1), (0.5, 4.5, 0.5), (0.5, 3.5, 0.5) # Ventana\n",
    "        ]\n",
    "        centro_3D = (2, 2.5, 2)\n",
    "        puntos_rotados_3D = [rotacion_3D(punto, angulo, centro_3D) for punto in puntos_figura_3D]\n",
    "        plot_figura_3D(puntos_figura_3D, puntos_rotados_3D, centro_3D, 'Rotacion')\n",
    "\n",
    "    elif opcion_3D == '3':\n",
    "        puntos_figura_3D = [\n",
    "            (0, 0, 0), (0, 5, 0), (2, 7, 0), (4, 5, 0), (4, 0, 0), # Base de la casa\n",
    "            (0, 0, 4), (0, 5, 4), (2, 7, 4), (4, 5, 4), (4, 0, 4), # Techo de la casa\n",
    "            (1.5, 2.5, 0), (2.5, 2.5, 0), (2.5, 0.5, 0), (1.5, 0.5, 0), # Puerta\n",
    "            (3.5, 3.5, 0), (3.5, 4.5, 0), (3.5, 4.5, 1), (3.5, 3.5, 1), # Ventana\n",
    "            (0.5, 3.5, 1), (0.5, 4.5, 1), (0.5, 4.5, 0.5), (0.5, 3.5, 0.5) # Ventana\n",
    "        ]\n",
    "        puntos_espejo_3D = espejo_3D(puntos_figura_3D)\n",
    "        centro_3D = (2, 2.5, 2)\n",
    "        plot_figura_3D(puntos_figura_3D, puntos_espejo_3D, centro_3D, 'Espejo')\n",
    "\n",
    "    else:\n",
    "        print(\"Opción inválida.\")\n",
    "\n",
    "else:\n",
    "    print(\"Opción inválida.\")"
   ]
  }
 ],
 "metadata": {
  "kernelspec": {
   "display_name": "Python 3",
   "language": "python",
   "name": "python3"
  },
  "language_info": {
   "codemirror_mode": {
    "name": "ipython",
    "version": 3
   },
   "file_extension": ".py",
   "mimetype": "text/x-python",
   "name": "python",
   "nbconvert_exporter": "python",
   "pygments_lexer": "ipython3",
   "version": "3.11.9"
  }
 },
 "nbformat": 4,
 "nbformat_minor": 2
}
