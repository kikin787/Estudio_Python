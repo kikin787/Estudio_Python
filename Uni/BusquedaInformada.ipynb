{
 "cells": [
  {
   "cell_type": "markdown",
   "metadata": {},
   "source": [
    "BestFirst"
   ]
  },
  {
   "cell_type": "code",
   "execution_count": 1,
   "metadata": {},
   "outputs": [
    {
     "name": "stdout",
     "output_type": "stream",
     "text": [
      "Camino encontrado: [(0, 0), (0, 1), (1, 1), (2, 1), (2, 2)]\n"
     ]
    }
   ],
   "source": [
    "import heapq\n",
    "def best_first_search(graph, start, goal):\n",
    "    def heuristic(node):\n",
    "        return ((node[0] - goal[0])**2 + (node[1] - goal[1])**2) ** 0.5\n",
    "\n",
    "    open_set = [(heuristic(start), start)]\n",
    "    visited = set()\n",
    "    came_from = {}  # Para rastrear el camino desde el nodo inicial\n",
    "\n",
    "    while open_set:\n",
    "        _, current_node = heapq.heappop(open_set)\n",
    "        if current_node == goal:\n",
    "            return reconstruct_path(came_from, current_node)\n",
    "\n",
    "        if current_node in visited:\n",
    "            continue\n",
    "\n",
    "        visited.add(current_node)\n",
    "\n",
    "        for neighbor in graph[current_node]:\n",
    "            if neighbor not in visited:\n",
    "                heapq.heappush(open_set, (heuristic(neighbor), neighbor))\n",
    "                came_from[neighbor] = current_node\n",
    "\n",
    "    return None\n",
    "\n",
    "def reconstruct_path(came_from, current_node):\n",
    "    path = [current_node]\n",
    "    while current_node in came_from:\n",
    "        current_node = came_from[current_node]\n",
    "        path.insert(0, current_node)\n",
    "    return path\n",
    "\n",
    "# Ejemplo de uso\n",
    "graph = {\n",
    "    (0, 0): [(1, 0), (0, 1)],\n",
    "    (1, 0): [(1, 1)],\n",
    "    (0, 1): [(0, 0), (1, 1)],\n",
    "    (1, 1): [(0, 1), (1, 0), (2, 1)],\n",
    "    (2, 1): [(1, 1), (2, 2)],\n",
    "    (2, 2): [(2, 1)]\n",
    "}\n",
    "\n",
    "start = (0, 0)\n",
    "goal = (2, 2)\n",
    "\n",
    "path = best_first_search(graph, start, goal)\n",
    "\n",
    "if path:\n",
    "    print(\"Camino encontrado:\", path)\n",
    "else:\n",
    "    print(\"No se encontró un camino.\")"
   ]
  },
  {
   "cell_type": "markdown",
   "metadata": {},
   "source": [
    "Hill climbing"
   ]
  },
  {
   "cell_type": "code",
   "execution_count": 2,
   "metadata": {},
   "outputs": [
    {
     "name": "stdout",
     "output_type": "stream",
     "text": [
      "Camino encontrado: [(0, 0), (1, 0), (1, 1), (2, 1), (2, 2)]\n"
     ]
    }
   ],
   "source": [
    "def hill_climbing(graph, start, goal, heuristic):\n",
    "    current_node = start\n",
    "    came_from = {}  # Rastrear el camino desde el nodo inicial\n",
    "\n",
    "    while current_node != goal:\n",
    "        neighbors = graph.get(current_node, [])\n",
    "        neighbor_scores = [(neighbor, heuristic(neighbor)) for neighbor in neighbors]\n",
    "        neighbor_scores.sort(key=lambda x: x[1])  # Ordena por puntaje heurístico\n",
    "\n",
    "        if not neighbor_scores or neighbor_scores[0][1] >= heuristic(current_node):\n",
    "            print(\"No se encontró un camino al objetivo.\")\n",
    "            return None\n",
    "\n",
    "        next_node = neighbor_scores[0][0]\n",
    "        came_from[next_node] = current_node\n",
    "        current_node = next_node\n",
    "\n",
    "    return reconstruct_path(start, goal, came_from)\n",
    "\n",
    "def reconstruct_path(start, goal, came_from):\n",
    "    path = [goal]\n",
    "    while goal != start:\n",
    "        goal = came_from[goal]\n",
    "        path.insert(0, goal)\n",
    "    return path\n",
    "\n",
    "# Ejemplo de uso\n",
    "graph = {\n",
    "    (0, 0): [(1, 0), (0, 1)],\n",
    "    (1, 0): [(1, 1)],\n",
    "    (0, 1): [(0, 0), (1, 1)],\n",
    "    (1, 1): [(0, 1), (1, 0), (2, 1)],\n",
    "    (2, 1): [(1, 1), (2, 2)],\n",
    "    (2, 2): [(2, 1)]\n",
    "}\n",
    "\n",
    "start = (0, 0)\n",
    "goal = (2, 2)\n",
    "\n",
    "# Función heurística simple que estima la distancia al objetivo\n",
    "def heuristic(node):\n",
    "    return ((node[0] - goal[0])**2 + (node[1] - goal[1])**2) ** 0.5\n",
    "\n",
    "path = hill_climbing(graph, start, goal, heuristic)\n",
    "\n",
    "if path:\n",
    "    print(\"Camino encontrado:\", path)\n",
    "else:\n",
    "    print(\"No se encontró un camino.\")\n"
   ]
  },
  {
   "cell_type": "markdown",
   "metadata": {},
   "source": [
    "Recocido Simulado"
   ]
  },
  {
   "cell_type": "code",
   "execution_count": 3,
   "metadata": {},
   "outputs": [
    {
     "name": "stdout",
     "output_type": "stream",
     "text": [
      "Nodo actual: (1, 0)\n",
      "Nodo actual: (1, 1)\n",
      "Nodo actual: (1, 0)\n",
      "Nodo actual: (1, 1)\n",
      "Nodo actual: (0, 1)\n",
      "Nodo actual: (1, 1)\n",
      "Nodo actual: (1, 0)\n",
      "Nodo actual: (1, 1)\n",
      "Nodo actual: (0, 1)\n",
      "Nodo actual: (1, 1)\n",
      "Nodo actual: (2, 1)\n",
      "Nodo actual: (1, 1)\n",
      "Nodo actual: (1, 0)\n",
      "Nodo actual: (1, 1)\n",
      "Nodo actual: (2, 1)\n",
      "Nodo actual: (2, 2)\n",
      "Camino encontrado: [(0, 0), (1, 0), (1, 1), (1, 0), (1, 1), (0, 1), (1, 1), (1, 0), (1, 1), (0, 1), (1, 1), (2, 1), (1, 1), (1, 0), (1, 1), (2, 1), (2, 2)]\n"
     ]
    }
   ],
   "source": [
    "import random\n",
    "import math\n",
    "\n",
    "def simulated_annealing(graph, start, goal, heuristic, initial_temperature, cooling_rate):\n",
    "    current_node = start\n",
    "    current_path = [start]\n",
    "    best_node = start\n",
    "    current_score = heuristic(current_node)\n",
    "    best_score = current_score\n",
    "\n",
    "    temperature = initial_temperature\n",
    "\n",
    "    while current_node != goal and temperature > 0.001:\n",
    "        neighbors = graph.get(current_node, [])\n",
    "\n",
    "        if neighbors:\n",
    "            neighbor = random.choice(neighbors)\n",
    "            neighbor_score = heuristic(neighbor)\n",
    "\n",
    "            delta_score = neighbor_score - current_score\n",
    "\n",
    "            if delta_score < 0 or random.random() < math.exp(-delta_score / temperature):\n",
    "                current_node = neighbor\n",
    "                current_path.append(current_node)\n",
    "                current_score = neighbor_score\n",
    "\n",
    "                if current_score < best_score:\n",
    "                    best_node = current_node\n",
    "                    best_score = current_score\n",
    "\n",
    "        temperature *= cooling_rate\n",
    "\n",
    "        print(\"Nodo actual:\", current_node)  # Muestra el nodo actual en cada iteración\n",
    "\n",
    "    return current_path  # Devuelve el recorrido completo hasta el objetivo\n",
    "\n",
    "# Ejemplo de uso\n",
    "graph = {\n",
    "    (0, 0): [(1, 0), (0, 1)],\n",
    "    (1, 0): [(1, 1)],\n",
    "    (0, 1): [(0, 0), (1, 1)],\n",
    "    (1, 1): [(0, 1), (1, 0), (2, 1)],\n",
    "    (2, 1): [(1, 1), (2, 2)],\n",
    "    (2, 2): [(2, 1)]\n",
    "}\n",
    "\n",
    "start = (0, 0)\n",
    "goal = (2, 2)\n",
    "\n",
    "# Función heurística simple que estima la distancia al objetivo\n",
    "def heuristic(node):\n",
    "    return ((node[0] - goal[0])**2 + (node[1] - goal[1])**2) ** 0.5\n",
    "\n",
    "# Parámetros del Recocido Simulado ajustados\n",
    "initial_temperature = 100.0  # Reducimos la temperatura inicial\n",
    "cooling_rate = 0.90  # Reducimos la tasa de enfriamiento\n",
    "\n",
    "path = simulated_annealing(graph, start, goal, heuristic, initial_temperature, cooling_rate)\n",
    "\n",
    "if path:\n",
    "    print(\"Camino encontrado:\", path)\n",
    "else:\n",
    "    print(\"No se encontró un camino.\")"
   ]
  },
  {
   "cell_type": "markdown",
   "metadata": {},
   "source": [
    "Búsqueda Tabu"
   ]
  },
  {
   "cell_type": "code",
   "execution_count": 9,
   "metadata": {},
   "outputs": [
    {
     "name": "stdout",
     "output_type": "stream",
     "text": [
      "Camino encontrado: [(0, 0), (0, 1), (0, 0), (1, 0), (1, 1), (2, 1), (2, 2)]\n"
     ]
    }
   ],
   "source": [
    "import random\n",
    "\n",
    "def tabu_search(graph, start, goal, tabu_list_size, max_iterations):\n",
    "    current_node = start\n",
    "    tabu_list = []\n",
    "    path = [current_node]\n",
    "\n",
    "    for _ in range(max_iterations):\n",
    "        neighbors = graph.get(current_node, [])\n",
    "        neighbors = [n for n in neighbors if n not in tabu_list]\n",
    "\n",
    "        if not neighbors:\n",
    "            break\n",
    "\n",
    "        neighbor = random.choice(neighbors)\n",
    "        path.append(neighbor)\n",
    "\n",
    "        if neighbor == goal:\n",
    "            return path\n",
    "\n",
    "        if len(tabu_list) >= tabu_list_size:\n",
    "            tabu_list.pop(0)\n",
    "\n",
    "        tabu_list.append(neighbor)\n",
    "        current_node = neighbor\n",
    "\n",
    "    return None\n",
    "\n",
    "# Ejemplo de uso\n",
    "graph = {\n",
    "    (0, 0): [(1, 0), (0, 1)],\n",
    "    (1, 0): [(1, 1)],\n",
    "    (0, 1): [(0, 0), (1, 1)],\n",
    "    (1, 1): [(0, 1), (1, 0), (2, 1)],\n",
    "    (2, 1): [(1, 1), (2, 2)],\n",
    "    (2, 2): [(2, 1)]\n",
    "}\n",
    "\n",
    "start = (0, 0)\n",
    "goal = (2, 2)\n",
    "\n",
    "# Parámetros de la Búsqueda Tabú\n",
    "tabu_list_size = 5  # Tamaño de la lista tabú\n",
    "max_iterations = 20  # Número máximo de iteraciones\n",
    "\n",
    "path = tabu_search(graph, start, goal, tabu_list_size, max_iterations)\n",
    "\n",
    "if path:\n",
    "    print(\"Camino encontrado:\", path)\n",
    "else:\n",
    "    print(\"No se encontró un camino.\")"
   ]
  }
 ],
 "metadata": {
  "kernelspec": {
   "display_name": "Python 3",
   "language": "python",
   "name": "python3"
  },
  "language_info": {
   "codemirror_mode": {
    "name": "ipython",
    "version": 3
   },
   "file_extension": ".py",
   "mimetype": "text/x-python",
   "name": "python",
   "nbconvert_exporter": "python",
   "pygments_lexer": "ipython3",
   "version": "3.11.4"
  }
 },
 "nbformat": 4,
 "nbformat_minor": 2
}
