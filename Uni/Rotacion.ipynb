{
 "cells": [
  {
   "cell_type": "markdown",
   "metadata": {},
   "source": [
    "<style>\n",
    "html, body, p{\n",
    "    text-align: justify !important;\n",
    "    text-justify: inter-word !important;\n",
    "    font-size:22px !important;\n",
    "}\n",
    "\n",
    ".centrado{\n",
    "    display:flex;\n",
    "    align-items:center;\n",
    "    justify-content:center;\n",
    "    flex-direction:column;\n",
    "    font-size:30px;\n",
    "}\n",
    "</style>\n",
    "\n",
    "<div class=\"centrado\"><img src=\"https://estadisticaccbas.uaa.mx/pluginfile.php/2/course/section/1/LOGOBENEMERITA_CIRCULAR.png?time=1606497553373\" style=\"max-width: 508px;\"></div>\n",
    "\n",
    "<div class=\"centrado\">\n",
    "\n",
    "<b>Alumno</b>\n",
    "\n",
    "Vélez Durán Enrique\n",
    "\n",
    "279600\n",
    "\n",
    "8 - A\n",
    "\n",
    "Ingeniería en Computación Inteligente\n",
    "\n",
    "Centro de Ciencias Básicas\n",
    "\n",
    "<b>Práctica</b>\n",
    "\n",
    "Práctica 9: Transformación de rotación\n",
    "\n",
    "12 de Abril del 2024\n",
    "</div>"
   ]
  },
  {
   "cell_type": "markdown",
   "metadata": {},
   "source": [
    "## Librerías"
   ]
  },
  {
   "cell_type": "code",
   "execution_count": 15,
   "metadata": {},
   "outputs": [],
   "source": [
    "import numpy as np\n",
    "import matplotlib.pyplot as kikin"
   ]
  },
  {
   "cell_type": "markdown",
   "metadata": {},
   "source": [
    "# Figura 2D"
   ]
  },
  {
   "cell_type": "markdown",
   "metadata": {},
   "source": [
    "## Función para hacer la rotación"
   ]
  },
  {
   "cell_type": "code",
   "execution_count": 16,
   "metadata": {},
   "outputs": [],
   "source": [
    "def rotacion_2D(punto, angulo, centro):\n",
    "    x, y = punto\n",
    "    cx, cy = centro\n",
    "    angulo_rad = np.radians(angulo)\n",
    "    x_rotacion = cx + np.cos(angulo_rad) * (x - cx) - np.sin(angulo_rad) * (y - cy)\n",
    "    y_rotacion = cy + np.sin(angulo_rad) * (x - cx) + np.cos(angulo_rad) * (y - cy)\n",
    "    return x_rotacion, y_rotacion"
   ]
  },
  {
   "cell_type": "markdown",
   "metadata": {},
   "source": [
    "## Impresión de figura de casa original con su rotación"
   ]
  },
  {
   "cell_type": "code",
   "execution_count": 17,
   "metadata": {},
   "outputs": [],
   "source": [
    "def plot_figura_2D(puntos, puntos_rotados, centro):\n",
    "    kikin.figure()\n",
    "    kikin.plot([p[0] for p in puntos], [p[1] for p in puntos], label='Original')\n",
    "    kikin.plot([p[0] for p in puntos_rotados], [p[1] for p in puntos_rotados], label='Rotado')\n",
    "    kikin.plot(centro[0], centro[1], 'ro', label='Centro de Rotación', color=\"purple\")  # Plot rotation center in yellow\n",
    "    kikin.xlabel('X')\n",
    "    kikin.ylabel('Y')\n",
    "    kikin.title('2D Rotacion')\n",
    "    kikin.legend()\n",
    "    kikin.axis('equal')\n",
    "    kikin.show()"
   ]
  },
  {
   "cell_type": "markdown",
   "metadata": {},
   "source": [
    "## Definición de tamaño de la casa así como su centro de rotación y que tantos grados se girará"
   ]
  },
  {
   "cell_type": "code",
   "execution_count": 18,
   "metadata": {},
   "outputs": [],
   "source": [
    "# Definición los puntos de la figura\n",
    "puntos_figura_2D = [(-1, 1), (-1, -4), (-5, -4), (-5, 2), (0, 5), (5, 2), (5, -4), (1, -4), (1, 1), (-1, 1)]\n",
    "\n",
    "# Define la posición de nuestro centro\n",
    "centro_2D = (0, 0)\n",
    "\n",
    "# Rotación que tendrá la figura\n",
    "angulo_2D = 90"
   ]
  },
  {
   "cell_type": "markdown",
   "metadata": {},
   "source": [
    "## Llamado de las funciones del principio para efectuar la rotación"
   ]
  },
  {
   "cell_type": "code",
   "execution_count": null,
   "metadata": {},
   "outputs": [],
   "source": [
    "puntos_rotados_2D = [rotacion_2D(punto, angulo_2D, centro_2D) for punto in puntos_figura_2D]\n",
    "plot_figura_2D(puntos_figura_2D, puntos_rotados_2D, centro_2D)"
   ]
  },
  {
   "cell_type": "markdown",
   "metadata": {},
   "source": [
    "# Figura 3D"
   ]
  },
  {
   "cell_type": "markdown",
   "metadata": {},
   "source": [
    "## Función para hacer la rotación"
   ]
  },
  {
   "cell_type": "code",
   "execution_count": 20,
   "metadata": {},
   "outputs": [],
   "source": [
    "def rotacion_3D(punto, angulo, centro):\n",
    "    x, y, z = punto\n",
    "    cx, cy, cz = centro\n",
    "    angulo_rad = np.radians(angulo)\n",
    "    rotacion_matriz = np.array([[np.cos(angulo_rad), -np.sin(angulo_rad), 0],\n",
    "                                [np.sin(angulo_rad), np.cos(angulo_rad), 0],\n",
    "                                [0, 0, 1]])\n",
    "    rotacion_punto = np.dot(rotacion_matriz, np.array([x - cx, y - cy, z - cz])) + np.array([cx, cy, cz])\n",
    "    return rotacion_punto"
   ]
  },
  {
   "cell_type": "markdown",
   "metadata": {},
   "source": [
    "## Impresión de figura de casa original con su rotación"
   ]
  },
  {
   "cell_type": "code",
   "execution_count": null,
   "metadata": {},
   "outputs": [],
   "source": [
    "def plot_figura_3D(puntos, rotacion_puntos, centro):\n",
    "    \"\"\"Plots 3D figure and its rotation.\"\"\"\n",
    "    fig = kikin.figure()\n",
    "    ax = fig.add_subplot(111, projection='3d')\n",
    "    \n",
    "    # Plot original points\n",
    "    ax.plot([p[0] for p in puntos], [p[1] for p in puntos], [p[2] for p in puntos], label='Original', color='blue')\n",
    "    \n",
    "    # Plot rotated points\n",
    "    ax.plot([p[0] for p in rotacion_puntos], [p[1] for p in rotacion_puntos], [p[2] for p in rotacion_puntos], label='Rotacion', color='red')\n",
    "    \n",
    "    # Plot rotation center\n",
    "    ax.scatter(centro[0], centro[1], centro[2], label='Centro de Rotacion', color='yellow')\n",
    "    \n",
    "    # Connect points in parallel at the same level\n",
    "    for i in range(0, len(puntos)//2):\n",
    "        if puntos[i] != (-1, 4, 0) and puntos[i+len(puntos)//2] != (-1, 2, 0.5):\n",
    "            ax.plot([puntos[i][0], puntos[i+len(puntos)//2][0]], \n",
    "                    [puntos[i][1], puntos[i+len(puntos)//2][1]], \n",
    "                    [puntos[i][2], puntos[i+len(puntos)//2][2]], color='blue')\n",
    "            ax.plot([rotacion_puntos[i][0], rotacion_puntos[i+len(puntos)//2][0]], \n",
    "                    [rotacion_puntos[i][1], rotacion_puntos[i+len(puntos)//2][1]], \n",
    "                    [rotacion_puntos[i][2], rotacion_puntos[i+len(puntos)//2][2]], color='red')\n",
    "\n",
    "    ax.set_xlabel('X')\n",
    "    ax.set_ylabel('Y')\n",
    "    ax.set_zlabel('Z')\n",
    "    ax.set_title('Rotación 3D')\n",
    "    ax.legend(loc='upper center', bbox_to_anchor=(0.5, 1.15), shadow=True, ncol=2)\n",
    "    kikin.show()"
   ]
  },
  {
   "cell_type": "markdown",
   "metadata": {},
   "source": [
    "## Definición de tamaño de la casa así como su centro de rotación y que tantos grados se girará"
   ]
  },
  {
   "cell_type": "code",
   "execution_count": null,
   "metadata": {},
   "outputs": [],
   "source": [
    "# Definición de puntos 3D\n",
    "puntos_figura_3D = [\n",
    "    (-1, 1, 0), (-1, -4, 0), (-5, -4, 0), (-5, 2, 0), (0, 5, 0), (5, 2, 0), (5, -4, 0), (1, -4, 0), (1, 1, 0),\n",
    "    (-1, 1, 0.5), (-1, -4, 0.5), (-5, -4, 0.5), (-5, 2, 0.5), (0, 5, 0.5), (5, 2, 0.5), (5, -4, 0.5), (1, -4, 0.5), (1, 1, 0.5)\n",
    "]\n",
    "\n",
    "# Define la posición de nuestro centro 3D\n",
    "centro_3D = (0, 0, 0)\n",
    "\n",
    "# Rotación que tendrá la figura\n",
    "angulo_3D = 90"
   ]
  },
  {
   "cell_type": "markdown",
   "metadata": {},
   "source": [
    "## Llamado de las funciones del principio para efectuar la rotación"
   ]
  },
  {
   "cell_type": "code",
   "execution_count": null,
   "metadata": {},
   "outputs": [],
   "source": [
    "puntos_rotados_figura_3D = [rotacion_3D(punto, angulo_3D, centro_3D) for punto in puntos_figura_3D]\n",
    "plot_figura_3D(puntos_figura_3D, puntos_rotados_figura_3D, centro_3D)"
   ]
  },
  {
   "cell_type": "markdown",
   "metadata": {},
   "source": [
    "# Conclusión\n",
    "<p style=\"text-align: justify;\">En este ejercicio, exploramos cómo representar y rotar figuras en 2D y 3D utilizando Python y Matplotlib. Fue interesante ver cómo podemos definir puntos en el espacio y aplicar rotaciones en torno a un centro específico para obtener nuevas perspectivas de nuestras figuras. Al ajustar la conexión entre los puntos, pudimos crear una figura tridimensional más coherente, lo que mejoró significativamente la visualización. Además, personalizamos la apariencia de nuestros gráficos para que fueran más legibles y estéticamente agradables, moviendo el cuadro de información a una posición más conveniente. \n",
    "Este ejercicio nos mostró la importancia de comprender las coordenadas espaciales y cómo las transformaciones geométricas, como las rotaciones, pueden influir en la apariencia de los objetos en diferentes dimensiones. Esta comprensión es esencial en una amplia gama de campos, desde la ingeniería y la física hasta la visualización de datos y la computación gráfica.</p>\n"
   ]
  },
  {
   "cell_type": "markdown",
   "metadata": {},
   "source": [
    "## Referencias\n",
    "<p>Academo. (2016). Rotation about a point. Recuperado de https://academo.org/demos/rotation-about-point/ </p>"
   ]
  }
 ],
 "metadata": {
  "kernelspec": {
   "display_name": "Python 3",
   "language": "python",
   "name": "python3"
  },
  "language_info": {
   "codemirror_mode": {
    "name": "ipython",
    "version": 3
   },
   "file_extension": ".py",
   "mimetype": "text/x-python",
   "name": "python",
   "nbconvert_exporter": "python",
   "pygments_lexer": "ipython3",
   "version": "3.11.9"
  }
 },
 "nbformat": 4,
 "nbformat_minor": 2
}
