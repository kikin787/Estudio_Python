{
 "cells": [
  {
   "cell_type": "markdown",
   "metadata": {},
   "source": [
    "Retornar funciones"
   ]
  },
  {
   "cell_type": "code",
   "execution_count": 4,
   "metadata": {},
   "outputs": [
    {
     "name": "stdout",
     "output_type": "stream",
     "text": [
      "a\n",
      "as\n",
      "e\n",
      "as\n"
     ]
    }
   ],
   "source": [
    "e = 'e' #Variable global\n",
    "def fun_prin():\n",
    "    a = 'a' #Variable local\n",
    "    b = 'b' #Variable local\n",
    "\n",
    "    def fun_anidada():\n",
    "        c = 'c' #Variable local\n",
    "\n",
    "        nonlocal b\n",
    "        b = 'as' #cambiamos totalmente la variable b de funcion fun_prin\n",
    "        print(a)\n",
    "        print(b)\n",
    "\n",
    "        print(e)\n",
    "    fun_anidada()\n",
    "    print(b)\n",
    "\n",
    "\n",
    "fun_prin()\n"
   ]
  },
  {
   "cell_type": "code",
   "execution_count": 5,
   "metadata": {},
   "outputs": [
    {
     "name": "stdout",
     "output_type": "stream",
     "text": [
      "Hola mundo\n"
     ]
    }
   ],
   "source": [
    "def sal():\n",
    "\n",
    "    def mos():\n",
    "        print('Hola mundo')\n",
    "    return mos    \n",
    "\n",
    "a = sal()\n",
    "a()   "
   ]
  },
  {
   "cell_type": "markdown",
   "metadata": {},
   "source": [
    "Closures"
   ]
  },
  {
   "cell_type": "code",
   "execution_count": null,
   "metadata": {},
   "outputs": [],
   "source": [
    "def salu():\n",
    "    mensaje = f'Hola {user}'\n",
    "    def mose():\n",
    "        print(mensaje)\n",
    "    return mose\n",
    "\n",
    "user = 'Kikin'\n",
    "\n",
    "res = salu()\n",
    "res()\n",
    "    "
   ]
  },
  {
   "cell_type": "markdown",
   "metadata": {},
   "source": [
    "Decoradores"
   ]
  },
  {
   "cell_type": "code",
   "execution_count": null,
   "metadata": {},
   "outputs": [],
   "source": [
    "\"\"\"\n",
    "a -> la función principal (decorador)\n",
    "b -> la función de decorar\n",
    "c -> la función decorada\n",
    "\n",
    "a(b) ->\n",
    "\"\"\"\n",
    "def func_a(fun_B):\n",
    "\n",
    "    def fun_c():\n",
    "        pass\n",
    "    \n",
    "    return fun_c"
   ]
  }
 ],
 "metadata": {
  "kernelspec": {
   "display_name": "Python 3",
   "language": "python",
   "name": "python3"
  },
  "language_info": {
   "codemirror_mode": {
    "name": "ipython",
    "version": 3
   },
   "file_extension": ".py",
   "mimetype": "text/x-python",
   "name": "python",
   "nbconvert_exporter": "python",
   "pygments_lexer": "ipython3",
   "version": "3.11.4"
  },
  "orig_nbformat": 4
 },
 "nbformat": 4,
 "nbformat_minor": 2
}
