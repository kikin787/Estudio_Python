{
 "cells": [
  {
   "cell_type": "markdown",
   "metadata": {},
   "source": [
    "## Universidad Autonoma de Aguascalientes\n",
    "## Departamento: Ciencias de la Computación\n",
    "## Carrera: Ingnieria en Computación Inteligente\n",
    "## Curso: Machine y Deep Learning (McCulloch Pitts)\n",
    "## Maestro: Dr. Francisco Javier Luna Rosas\n",
    "## Alumno: Enrique Vélez Durán\n",
    "## Semestre: Enero_Junio del 2025"
   ]
  },
  {
   "cell_type": "code",
   "execution_count": 7,
   "metadata": {},
   "outputs": [],
   "source": [
    "import numpy as np"
   ]
  },
  {
   "cell_type": "code",
   "execution_count": 8,
   "metadata": {},
   "outputs": [],
   "source": [
    "def mcculloch_pitts_XOR(x1, x2):\n",
    "    # Neuronas ocultas (simulando OR y NAND)\n",
    "    def OR(x1, x2):\n",
    "        return 1 if x1 + x2 >= 1 else 0\n",
    "\n",
    "    def NAND(x1, x2):\n",
    "        return 1 if x1 + x2 < 2 else 0\n",
    "\n",
    "    # Neurona de salida (AND de los resultados)\n",
    "    def AND(x1, x2):\n",
    "        return 1 if x1 + x2 >= 2 else 0\n",
    "\n",
    "    # Capa oculta\n",
    "    or_output = OR(x1, x2)\n",
    "    nand_output = NAND(x1, x2)\n",
    "\n",
    "    # Capa de salida\n",
    "    return AND(or_output, nand_output)\n"
   ]
  },
  {
   "cell_type": "code",
   "execution_count": 9,
   "metadata": {},
   "outputs": [
    {
     "name": "stdout",
     "output_type": "stream",
     "text": [
      "0\n",
      "1\n",
      "1\n",
      "0\n"
     ]
    }
   ],
   "source": [
    "# Pruebas\n",
    "print(mcculloch_pitts_XOR(0,0))  # 0\n",
    "print(mcculloch_pitts_XOR(0,1))  # 1\n",
    "print(mcculloch_pitts_XOR(1,0))  # 1\n",
    "print(mcculloch_pitts_XOR(1,1))  # 0"
   ]
  }
 ],
 "metadata": {
  "kernelspec": {
   "display_name": "Estudio_Python-qzo8rCxg",
   "language": "python",
   "name": "python3"
  },
  "language_info": {
   "codemirror_mode": {
    "name": "ipython",
    "version": 3
   },
   "file_extension": ".py",
   "mimetype": "text/x-python",
   "name": "python",
   "nbconvert_exporter": "python",
   "pygments_lexer": "ipython3",
   "version": "3.13.1"
  }
 },
 "nbformat": 4,
 "nbformat_minor": 2
}
