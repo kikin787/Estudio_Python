{
 "cells": [
  {
   "cell_type": "markdown",
   "metadata": {},
   "source": [
    "Algoritmo genético\n",
    "Autor: Enrique Vélez Durán"
   ]
  },
  {
   "cell_type": "code",
   "execution_count": 11,
   "metadata": {},
   "outputs": [],
   "source": [
    "import random\n",
    "\n",
    "# Parámetros del algoritmo\n",
    "objetivo = \"11111111111111111111\"  # Cadena objetivo de bits\n",
    "tamaño_poblacion = 200\n",
    "tasa_mutacion = 0.05\n",
    "num_generaciones = 100\n",
    "probabilidad_cruce = 0.80 # Probabilidad de cruce"
   ]
  },
  {
   "cell_type": "code",
   "execution_count": 12,
   "metadata": {},
   "outputs": [],
   "source": [
    "# Función para crear una cadena de bits aleatoria\n",
    "def cadena_aleatoria(longitud):\n",
    "    return ''.join(random.choice('01') for _ in range(longitud))"
   ]
  },
  {
   "cell_type": "code",
   "execution_count": 13,
   "metadata": {},
   "outputs": [],
   "source": [
    "# Función de aptitud (fitness) - cuanto menor es mejor\n",
    "def aptitud(cadena):\n",
    "    return sum(1 for a, b in zip(cadena, objetivo) if a != b)"
   ]
  },
  {
   "cell_type": "code",
   "execution_count": 14,
   "metadata": {},
   "outputs": [],
   "source": [
    "def seleccion_padres(poblacion):\n",
    "    padres = random.choices(poblacion, weights=[1.0 / (aptitud(individuo) + 1) for individuo in poblacion], k=2)\n",
    "    return padres"
   ]
  },
  {
   "cell_type": "code",
   "execution_count": 15,
   "metadata": {},
   "outputs": [],
   "source": [
    "# Función de cruce (crossover)\n",
    "def cruce(padre1, padre2):\n",
    "    if random.random() < probabilidad_cruce:\n",
    "        punto_cruce = random.randint(1, len(padre1) - 1)\n",
    "        hijo1 = padre1[:punto_cruce] + padre2[punto_cruce:]\n",
    "        hijo2 = padre2[:punto_cruce] + padre1[punto_cruce:]\n",
    "        return hijo1, hijo2\n",
    "    else:\n",
    "        return padre1, padre2"
   ]
  },
  {
   "cell_type": "code",
   "execution_count": 16,
   "metadata": {},
   "outputs": [],
   "source": [
    "# Función de mutación\n",
    "def mutacion(cadena):\n",
    "    cadena_mutada = list(cadena)\n",
    "    for i in range(len(cadena_mutada)):\n",
    "        if random.random() < tasa_mutacion:\n",
    "            cadena_mutada[i] = '1' if cadena_mutada[i] == '0' else '0'\n",
    "    return ''.join(cadena_mutada)"
   ]
  },
  {
   "cell_type": "code",
   "execution_count": 17,
   "metadata": {},
   "outputs": [
    {
     "name": "stdout",
     "output_type": "stream",
     "text": [
      "Generación 1: Mejor aptitud = 3, Mejor solución = 11011111111101111101\n",
      "Generación 2: Mejor aptitud = 3, Mejor solución = 11011111111101111101\n",
      "Generación 3: Mejor aptitud = 3, Mejor solución = 11011111111101111101\n",
      "Generación 4: Mejor aptitud = 2, Mejor solución = 11101111111111111110\n",
      "Generación 5: Mejor aptitud = 1, Mejor solución = 11111111111111111110\n",
      "Generación 6: Mejor aptitud = 1, Mejor solución = 11111111111111111110\n",
      "Generación 7: Mejor aptitud = 0, Mejor solución = 11111111111111111111\n",
      "¡Solución encontrada!\n",
      "Mejor solución encontrada: 11111111111111111111\n"
     ]
    }
   ],
   "source": [
    "# Generación de la población inicial\n",
    "poblacion_actual = [cadena_aleatoria(len(objetivo)) for _ in range(tamaño_poblacion)]\n",
    "\n",
    "# Ciclo principal de evolución\n",
    "for generacion in range(num_generaciones):\n",
    "    poblacion_actual = sorted(poblacion_actual, key=aptitud)\n",
    "    \n",
    "    print(f\"Generación {generacion+1}: Mejor aptitud = {aptitud(poblacion_actual[0])}, Mejor solución = {poblacion_actual[0]}\")\n",
    "    \n",
    "    if aptitud(poblacion_actual[0]) == 0:\n",
    "        print(\"¡Solución encontrada!\")\n",
    "        break\n",
    "    \n",
    "    nueva_poblacion = [poblacion_actual[0]]\n",
    "    \n",
    "    while len(nueva_poblacion) < tamaño_poblacion:\n",
    "        padre1, padre2 = seleccion_padres(poblacion_actual)\n",
    "        hijo1, hijo2 = cruce(padre1, padre2)\n",
    "        hijo1 = mutacion(hijo1)\n",
    "        hijo2 = mutacion(hijo2)\n",
    "        nueva_poblacion.extend([hijo1, hijo2])\n",
    "    \n",
    "    poblacion_actual = nueva_poblacion\n",
    "\n",
    "mejor_solucion = min(poblacion_actual, key=aptitud)\n",
    "print(\"Mejor solución encontrada:\", mejor_solucion)"
   ]
  }
 ],
 "metadata": {
  "kernelspec": {
   "display_name": "Python 3",
   "language": "python",
   "name": "python3"
  },
  "language_info": {
   "codemirror_mode": {
    "name": "ipython",
    "version": 3
   },
   "file_extension": ".py",
   "mimetype": "text/x-python",
   "name": "python",
   "nbconvert_exporter": "python",
   "pygments_lexer": "ipython3",
   "version": "3.11.4"
  },
  "orig_nbformat": 4
 },
 "nbformat": 4,
 "nbformat_minor": 2
}
