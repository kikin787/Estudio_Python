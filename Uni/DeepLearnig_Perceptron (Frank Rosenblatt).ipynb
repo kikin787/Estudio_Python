{
 "cells": [
  {
   "cell_type": "markdown",
   "metadata": {},
   "source": [
    "## Universidad Autonoma de Aguascalientes\n",
    "## Departamento: Ciencias de la Computación\n",
    "## Carrera: Ingnieria en Computación Inteligente\n",
    "## Curso: Machine y Deep Learning (McCulloch Pitts)\n",
    "## Maestro: Dr. Francisco Javier Luna Rosas\n",
    "## Alumno: Enrique Vélez Durán\n",
    "## Semestre: Enero_Junio del 2025\n",
    "### PRÁTICA No. 5 Un pereceptrón es un tipo de modelo de red neuronal muy simple, utilizado principalmnete para problemas de clasificación binaria. Fue desarrollado en 1058 por Frank Roseblatt y es considerado uno de los primeros algoritmos de aprendizaaje supervisado.\n",
    "### Un perceptrón toma un conjkunto de entradas, las procesa mediante una serie de operaciones matemáticas y produce una salida que puede ser 0 o 1, dependiendo si el resultado final supera un umbral prederterminado"
   ]
  },
  {
   "cell_type": "markdown",
   "metadata": {},
   "source": [
    "### EJEMPLO: Determinar si se le aprueba una tarjeta de credito a un cliente, considerando la edad y el ahorro que tiene en su cuenta bancaria"
   ]
  },
  {
   "cell_type": "code",
   "execution_count": 121,
   "metadata": {},
   "outputs": [],
   "source": [
    "import numpy as np \n",
    "# import matplotlib.pyplot"
   ]
  },
  {
   "cell_type": "code",
   "execution_count": 122,
   "metadata": {},
   "outputs": [],
   "source": [
    "personas = np.array([[0.3,0.4], [0.4,0.3],\n",
    "                  [0.3,0.2], [0.4,0.1],\n",
    "                  [0.5,0.4], [0.4,0.8],\n",
    "                  [0.6,0.8], [0.5,0.6],\n",
    "                  [0.7,0.6], [0.8,0.5]])"
   ]
  },
  {
   "cell_type": "code",
   "execution_count": 123,
   "metadata": {},
   "outputs": [],
   "source": [
    "clases = np.array([0,0,0,0,0,1,1,1,1,1])"
   ]
  },
  {
   "cell_type": "code",
   "execution_count": 124,
   "metadata": {},
   "outputs": [],
   "source": [
    "def activacion(pesos, x, b):\n",
    "    z = pesos * x\n",
    "    if z.sum() + b > 0:\n",
    "        return 1\n",
    "    else:\n",
    "        return 0"
   ]
  },
  {
   "cell_type": "code",
   "execution_count": 125,
   "metadata": {},
   "outputs": [
    {
     "data": {
      "text/plain": [
       "(array([0.85368107, 0.96908798]), -0.30286038940765203, 1)"
      ]
     },
     "execution_count": 125,
     "metadata": {},
     "output_type": "execute_result"
    }
   ],
   "source": [
    "pesos = np.random.uniform(-1,1, size=2)\n",
    "b = np.random.uniform(-1,1)\n",
    "pesos, b, activacion(pesos,[0.3, 0.2], b)"
   ]
  },
  {
   "cell_type": "code",
   "execution_count": 126,
   "metadata": {},
   "outputs": [
    {
     "name": "stdout",
     "output_type": "stream",
     "text": [
      "6 7 7 7 9 9 9 7 7 7 6 7 6 7 7 6 7 6 7 6 7 7 6 7 6 7 7 5 6 5 4 5 4 3 4 4 3 2 2 2 2 2 2 2 2 2 2 2 2 2 3 2 2 2 2 2 2 2 2 2 1 2 2 2 2 2 1 0 0 0 0 0 0 0 0 0 0 0 0 0 0 0 0 0 0 0 0 0 0 0 0 0 0 0 0 0 0 0 0 0 "
     ]
    }
   ],
   "source": [
    "pesos = np.random.uniform(-1,1, size=2)\n",
    "b = np.random.uniform(-1,1)\n",
    "tasa_de_aprendizaje = 0.01\n",
    "epocas = 100\n",
    "\n",
    "for epoca in range(epocas):\n",
    "    error_total = 0\n",
    "    for i in range(len(personas)):\n",
    "        prediccion = activacion(pesos, personas[i], b)\n",
    "        error = clases[i] - prediccion\n",
    "        error_total  += error**2\n",
    "        pesos[0] += tasa_de_aprendizaje * personas[i][0] * error\n",
    "        pesos[1] += tasa_de_aprendizaje * personas[i][1] * error\n",
    "        b += tasa_de_aprendizaje * error\n",
    "    print(error_total, end=\" \")"
   ]
  },
  {
   "cell_type": "code",
   "execution_count": 127,
   "metadata": {},
   "outputs": [
    {
     "data": {
      "text/plain": [
       "(array([0.20193975, 0.05290637]), np.float64(-0.12277967973373599), 0)"
      ]
     },
     "execution_count": 127,
     "metadata": {},
     "output_type": "execute_result"
    }
   ],
   "source": [
    "pesos, b, activacion(pesos,[0.3, 0.4], b)"
   ]
  },
  {
   "cell_type": "code",
   "execution_count": 128,
   "metadata": {},
   "outputs": [
    {
     "data": {
      "text/plain": [
       "(array([0.20193975, 0.05290637]), np.float64(-0.12277967973373599), 1)"
      ]
     },
     "execution_count": 128,
     "metadata": {},
     "output_type": "execute_result"
    }
   ],
   "source": [
    "pesos, b, activacion(pesos, [0.8,0.5], b)"
   ]
  }
 ],
 "metadata": {
  "kernelspec": {
   "display_name": "Estudio_Python-qzo8rCxg",
   "language": "python",
   "name": "python3"
  },
  "language_info": {
   "codemirror_mode": {
    "name": "ipython",
    "version": 3
   },
   "file_extension": ".py",
   "mimetype": "text/x-python",
   "name": "python",
   "nbconvert_exporter": "python",
   "pygments_lexer": "ipython3",
   "version": "3.13.1"
  }
 },
 "nbformat": 4,
 "nbformat_minor": 2
}
