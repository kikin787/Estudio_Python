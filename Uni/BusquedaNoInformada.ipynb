{
 "cells": [
  {
   "cell_type": "code",
   "execution_count": 29,
   "metadata": {},
   "outputs": [
    {
     "name": "stdout",
     "output_type": "stream",
     "text": [
      "Búsqueda en Anchura (BFS): El nodo C fue encontrado en la ruta: ['A', 'C']\n",
      "Búsqueda en Profundidad (DFS): El nodo C fue encontrado en la ruta: ['A', 'B', 'E', 'F', 'C']\n"
     ]
    }
   ],
   "source": [
    "from collections import deque\n",
    "\n",
    "def bfs(graph, start, target):\n",
    "    visited = set()\n",
    "    queue = deque()\n",
    "    queue.append((start, [start]))  # Usamos una tupla para mantener la ruta recorrida\n",
    "\n",
    "    while queue:\n",
    "        node, path = queue.popleft()\n",
    "        if node == target:\n",
    "            return path  # Devolvemos la ruta recorrida\n",
    "        visited.add(node)\n",
    "        for neighbor in graph[node]:\n",
    "            if neighbor not in visited and neighbor not in [n for n, _ in queue]:\n",
    "                new_path = path + [neighbor]\n",
    "                queue.append((neighbor, new_path))\n",
    "    return None\n",
    "\n",
    "def dfs(graph, node, target, visited=None, path=None):\n",
    "    if visited is None:\n",
    "        visited = set()\n",
    "    if path is None:\n",
    "        path = [node]\n",
    "\n",
    "    if node == target:\n",
    "        return path  # Devolvemos la ruta recorrida\n",
    "\n",
    "    visited.add(node)\n",
    "    for neighbor in graph[node]:\n",
    "        if neighbor not in visited:\n",
    "            new_path = path + [neighbor]\n",
    "            result = dfs(graph, neighbor, target, visited, new_path)\n",
    "            if result:\n",
    "                return result\n",
    "    return None\n",
    "\n",
    "# Ejemplo de uso\n",
    "if __name__ == \"__main__\":\n",
    "    # Representación de un grafo en forma de diccionario de adyacencia\n",
    "    graph = {\n",
    "        'A': ['B', 'C'],\n",
    "        'B': ['A', 'D', 'E'],\n",
    "        'C': ['A', 'F'],\n",
    "        'D': ['B'],\n",
    "        'E': ['B', 'F'],\n",
    "        'F': ['C', 'E']\n",
    "    }\n",
    "\n",
    "    start_node = 'A'\n",
    "    target_node = 'C'\n",
    "\n",
    "    bfs_path = bfs(graph, start_node, target_node)\n",
    "    dfs_path = dfs(graph, start_node, target_node)\n",
    "\n",
    "    if bfs_path:\n",
    "        print(f\"Búsqueda en Anchura (BFS): El nodo {target_node} fue encontrado en la ruta: {bfs_path}\")\n",
    "    else:\n",
    "        print(f\"Búsqueda en Anchura (BFS): El nodo {target_node} no fue encontrado.\")\n",
    "\n",
    "    if dfs_path:\n",
    "        print(f\"Búsqueda en Profundidad (DFS): El nodo {target_node} fue encontrado en la ruta: {dfs_path}\")\n",
    "    else:\n",
    "        print(f\"Búsqueda en Profundidad (DFS): El nodo {target_node} no fue encontrado.\")\n"
   ]
  }
 ],
 "metadata": {
  "kernelspec": {
   "display_name": "Python 3",
   "language": "python",
   "name": "python3"
  },
  "language_info": {
   "codemirror_mode": {
    "name": "ipython",
    "version": 3
   },
   "file_extension": ".py",
   "mimetype": "text/x-python",
   "name": "python",
   "nbconvert_exporter": "python",
   "pygments_lexer": "ipython3",
   "version": "3.11.4"
  }
 },
 "nbformat": 4,
 "nbformat_minor": 2
}
