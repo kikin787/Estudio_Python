{
 "cells": [
  {
   "cell_type": "markdown",
   "metadata": {},
   "source": [
    "Diccionarios"
   ]
  },
  {
   "cell_type": "code",
   "execution_count": null,
   "metadata": {},
   "outputs": [],
   "source": [
    "\"\"\"\n",
    "ele = {}\n",
    "ele ['sexo'] = 'masculino'\n",
    "ele ['nombre']  =  'chisrra'\n",
    "ele [(1,2,3)] = 'tuplas'\n",
    "print(ele)\n",
    "print(len(ele))\n",
    "ele ['sexo'] = 'femenino' #actualizamos el valor anterior de la llave\n",
    "\"\"\"\n",
    "ele = {'a': 1, 'b': 2, 'c': 3, 'a': 4}\n",
    "print(ele['a']+ele['b'])\n",
    "print(ele)"
   ]
  },
  {
   "cell_type": "markdown",
   "metadata": {},
   "source": [
    "Obtener elementos"
   ]
  },
  {
   "cell_type": "code",
   "execution_count": 6,
   "metadata": {},
   "outputs": [
    {
     "name": "stdout",
     "output_type": "stream",
     "text": [
      "11\n",
      "{'a': 1, 'b': 2, 'c': 3, 'd': 4, 'e': 8}\n",
      "24\n"
     ]
    }
   ],
   "source": [
    "elem = {'a': 1, 'b':2, 'c':3, 'd':4}\n",
    "mas = {'t':8}\n",
    "\"\"\"print('t' in elem)\n",
    "valor = elem['c']*mas['t']\n",
    "print(valor)\"\"\"\n",
    "valor = elem.get('z',3) + mas.get('t') # es mejor usar get\n",
    "print(valor)\n",
    "valor = elem.setdefault('e',8)\n",
    "print(elem)\n",
    "b =[4, 4, 5, 6]\n",
    "a = sum(b,5)\n",
    "print(a)\n",
    "#get solo lo usa temporalmente\n",
    "#setdefault lo agrega al diccionario"
   ]
  },
  {
   "cell_type": "markdown",
   "metadata": {},
   "source": [
    "Llaves, items y valores (keys, values, items)"
   ]
  },
  {
   "cell_type": "code",
   "execution_count": 1,
   "metadata": {},
   "outputs": [
    {
     "name": "stdout",
     "output_type": "stream",
     "text": [
      "('a', 'b', 'c', 'd')\n",
      "(1, 2, 3, 4)\n",
      "(('a', 1), ('b', 2), ('c', 3), ('d', 4))\n"
     ]
    }
   ],
   "source": [
    "dicele =  {'a': 1, 'b':2, 'c':3, 'd':4}\n",
    "llaves = tuple(dicele.keys())\n",
    "print(llaves)\n",
    "valo = tuple(dicele.values())\n",
    "print(valo)\n",
    "elementos = tuple(dicele.items())\n",
    "print(elementos)"
   ]
  },
  {
   "cell_type": "markdown",
   "metadata": {},
   "source": [
    "Eliminar elementos"
   ]
  },
  {
   "cell_type": "code",
   "execution_count": 2,
   "metadata": {},
   "outputs": [
    {
     "name": "stdout",
     "output_type": "stream",
     "text": [
      "4\n",
      "{'a': 1, 'b': 2, 'c': 3}\n",
      "3\n",
      "{'a': 1, 'b': 2, 'd': 8}\n",
      "{}\n",
      "{}\n"
     ]
    }
   ],
   "source": [
    "diccele = {'a': 1, 'b':2, 'c':3, 'd':4}\n",
    "print(len(diccele))\n",
    "del diccele['d']\n",
    "print(diccele)\n",
    "print(len(diccele))\n",
    "valorr = diccele.pop('c')\n",
    "nu = diccele.setdefault('d', 8)\n",
    "print(diccele)\n",
    "diccele.clear()\n",
    "print(diccele)\n",
    "\n"
   ]
  },
  {
   "cell_type": "markdown",
   "metadata": {},
   "source": [
    "Tipo none"
   ]
  },
  {
   "cell_type": "code",
   "execution_count": null,
   "metadata": {},
   "outputs": [],
   "source": [
    "res = None\n",
    "# es lo mismo que igualarla a 0"
   ]
  }
 ],
 "metadata": {
  "kernelspec": {
   "display_name": "Python 3",
   "language": "python",
   "name": "python3"
  },
  "language_info": {
   "codemirror_mode": {
    "name": "ipython",
    "version": 3
   },
   "file_extension": ".py",
   "mimetype": "text/x-python",
   "name": "python",
   "nbconvert_exporter": "python",
   "pygments_lexer": "ipython3",
   "version": "3.11.4"
  },
  "orig_nbformat": 4
 },
 "nbformat": 4,
 "nbformat_minor": 2
}
