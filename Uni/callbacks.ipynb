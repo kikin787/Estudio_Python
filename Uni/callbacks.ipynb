{
 "cells": [
  {
   "cell_type": "code",
   "execution_count": null,
   "metadata": {},
   "outputs": [],
   "source": [
    "prom = lambda *args: sum(args) / len(args)\n",
    "\n",
    "val = lambda cali: cali >= 7\n",
    "\n",
    "def esaprop(cali):\n",
    "    return cali >=7\n",
    "\n",
    "def mostrar(funcprom, funcaprob, *args):\n",
    "    prom = funcprom(*args)\n",
    "    if funcaprob(prom):\n",
    "        print('Felicidades no reprobaste ',prom)\n",
    "    else:\n",
    "        print('Eres estúpido') \n",
    "\n",
    "mostrar(prom, esaprop,10, 9, 8, 4, 5)\n"
   ]
  },
  {
   "cell_type": "markdown",
   "metadata": {},
   "source": [
    "Decoradores"
   ]
  },
  {
   "cell_type": "code",
   "execution_count": null,
   "metadata": {},
   "outputs": [],
   "source": [
    "\"\"\"\n",
    "a -> función principal (decorador)\n",
    "b -> función de decorar\n",
    "c -> función decorada\n",
    "\n",
    "a(b) -> c\n",
    "\"\"\" \n",
    "\n",
    "def a(b):\n",
    "    \n",
    "    def c():\n",
    "        print('Antes del llamado')\n",
    "        b()\n",
    "        print('Después del llamado')\n",
    "    return c\n",
    "@a\n",
    "def saludar():\n",
    "    print('Hola')\n",
    "saludar()\n",
    "\n",
    "@a\n",
    "def suma():\n",
    "    print(10+10)\n",
    "suma()"
   ]
  },
  {
   "cell_type": "markdown",
   "metadata": {},
   "source": [
    "Más decoradores"
   ]
  },
  {
   "cell_type": "code",
   "execution_count": 13,
   "metadata": {},
   "outputs": [
    {
     "name": "stdout",
     "output_type": "stream",
     "text": [
      "30\n"
     ]
    }
   ],
   "source": [
    "def funa(funb):\n",
    "\n",
    "    def func(*args,**kwargs):\n",
    "        rest = funb(*args,**kwargs)\n",
    "        return rest\n",
    "    return func\n",
    "@funa\n",
    "def sum(n1,n2):\n",
    "    return n1+n2\n",
    "res = sum(10,20)\n",
    "print(res)\n"
   ]
  },
  {
   "cell_type": "markdown",
   "metadata": {},
   "source": [
    "Generadores"
   ]
  },
  {
   "cell_type": "code",
   "execution_count": null,
   "metadata": {},
   "outputs": [],
   "source": []
  }
 ],
 "metadata": {
  "kernelspec": {
   "display_name": "Python 3",
   "language": "python",
   "name": "python3"
  },
  "language_info": {
   "codemirror_mode": {
    "name": "ipython",
    "version": 3
   },
   "file_extension": ".py",
   "mimetype": "text/x-python",
   "name": "python",
   "nbconvert_exporter": "python",
   "pygments_lexer": "ipython3",
   "version": "3.11.4"
  },
  "orig_nbformat": 4
 },
 "nbformat": 4,
 "nbformat_minor": 2
}
