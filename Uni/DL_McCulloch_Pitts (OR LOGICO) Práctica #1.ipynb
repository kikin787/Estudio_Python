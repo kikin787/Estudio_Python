{
 "cells": [
  {
   "cell_type": "markdown",
   "metadata": {},
   "source": [
    "## Universidad Autonoma de Aguascalientes\n",
    "## Departamento: Ciencias de la Computación\n",
    "## Carrera: Ingnieria en Computación Inteligente\n",
    "## Curso: Machine y Deep Learning (McCulloch Pitts)\n",
    "## Maestro: Dr. Francisco Javier Luna Rosas\n",
    "## Alumno: Enrique Vélez Durán\n",
    "## Semestre: Enero_Junio del 2025\n",
    "### PRÁTICA No. 1 Neurona de McCulloch Pitts.\n",
    "## Entre una célula de McCulloch-Pitts"
   ]
  },
  {
   "cell_type": "markdown",
   "metadata": {},
   "source": [
    "### Importar llibrerias"
   ]
  },
  {
   "cell_type": "code",
   "execution_count": 1,
   "metadata": {},
   "outputs": [],
   "source": [
    "import numpy as np"
   ]
  },
  {
   "cell_type": "code",
   "execution_count": 2,
   "metadata": {},
   "outputs": [],
   "source": [
    "def mcculloch_pitts_OR(x1,x2):\n",
    "    #Pesos de la entrada\n",
    "    w1,w2 = 1,1,\n",
    "    #umbral\n",
    "    teta = 1\n",
    "    # suma ponderada de las entradas\n",
    "    weighted_sum = x1 * w1 + x2 * w2\n",
    "\n",
    "    # salida de la celula\n",
    "    if weighted_sum >= teta:\n",
    "        return 1\n",
    "    else: \n",
    "        return 0"
   ]
  },
  {
   "cell_type": "code",
   "execution_count": 3,
   "metadata": {},
   "outputs": [
    {
     "name": "stdout",
     "output_type": "stream",
     "text": [
      "0\n",
      "1\n",
      "1\n",
      "1\n"
     ]
    }
   ],
   "source": [
    "print(mcculloch_pitts_OR(0,0))\n",
    "print(mcculloch_pitts_OR(1,0))\n",
    "print(mcculloch_pitts_OR(0,1))\n",
    "print(mcculloch_pitts_OR(1,1))"
   ]
  },
  {
   "cell_type": "markdown",
   "metadata": {},
   "source": [
    "## Conclusiones\n",
    "### En esta practica entrenamos un neurona de McCulloch-Pitts para que sea capaz de comportarse como una compuerta lógica Or de dos entradas. Los pesos (w) y el teta, feuron elegidos totalmnete aleatorios. al probar la Nuerona de Mcculloch-Pitts"
   ]
  }
 ],
 "metadata": {
  "kernelspec": {
   "display_name": "Estudio_Python-qzo8rCxg",
   "language": "python",
   "name": "python3"
  },
  "language_info": {
   "codemirror_mode": {
    "name": "ipython",
    "version": 3
   },
   "file_extension": ".py",
   "mimetype": "text/x-python",
   "name": "python",
   "nbconvert_exporter": "python",
   "pygments_lexer": "ipython3",
   "version": "3.13.1"
  }
 },
 "nbformat": 4,
 "nbformat_minor": 2
}
