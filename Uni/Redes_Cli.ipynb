{
 "cells": [
  {
   "cell_type": "code",
   "execution_count": 1,
   "metadata": {},
   "outputs": [],
   "source": [
    "import socket\n",
    "import threading\n",
    "\n",
    "# Configuración del cliente\n",
    "server_ip = '10.1.1.1'\n",
    "server_port = 1212\n",
    "\n",
    "# Inicializar el cliente\n",
    "client_socket = socket.socket(socket.AF_INET, socket.SOCK_STREAM)\n",
    "client_socket.connect((server_ip, server_port))\n",
    "\n",
    "# Función para enviar mensajes al servidor\n",
    "def send_messages():\n",
    "    while True:\n",
    "        message = input(\"Ingrese un mensaje: \")\n",
    "\n",
    "        # Aquí se debe enviar el mensaje junto con la clave del destinatario\n",
    "        destination_key = input(\"Ingrese la clave del destinatario: \")\n",
    "        message_with_key = f\"{destination_key}:{message}\"\n",
    "        client_socket.send(message_with_key.encode())\n",
    "\n",
    "# Función para recibir mensajes del servidor\n",
    "def receive_messages():\n",
    "    while True:\n",
    "        try:\n",
    "            message = client_socket.recv(1024)\n",
    "            if not message:\n",
    "                break\n",
    "\n",
    "            print(f\"Mensaje recibido: {message.decode()}\")\n",
    "\n",
    "        except Exception as e:\n",
    "            print(f\"Error al recibir mensaje del servidor: {e}\")\n",
    "            break\n",
    "\n",
    "# Recibir información del servidor (lista de clientes y sus claves)\n",
    "clients_info = client_socket.recv(1024).decode()\n",
    "print(f\"Clientes disponibles: {clients_info}\")\n",
    "\n",
    "# Iniciar hilos para enviar y recibir mensajes\n",
    "send_thread = threading.Thread(target=send_messages)\n",
    "receive_thread = threading.Thread(target=receive_messages)\n",
    "\n",
    "send_thread.start()\n",
    "receive_thread.start()\n",
    "\n",
    "# Esperar a que los hilos finalicen (esto nunca ocurrirá en este ejemplo)\n",
    "send_thread.join()\n",
    "receive_thread.join()"
   ]
  }
 ],
 "metadata": {
  "kernelspec": {
   "display_name": "Python 3",
   "language": "python",
   "name": "python3"
  },
  "language_info": {
   "codemirror_mode": {
    "name": "ipython",
    "version": 3
   },
   "file_extension": ".py",
   "mimetype": "text/x-python",
   "name": "python",
   "nbconvert_exporter": "python",
   "pygments_lexer": "ipython3",
   "version": "3.11.4"
  }
 },
 "nbformat": 4,
 "nbformat_minor": 2
}
