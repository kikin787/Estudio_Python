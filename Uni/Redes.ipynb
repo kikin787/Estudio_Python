{
 "cells": [
  {
   "cell_type": "code",
   "execution_count": 1,
   "metadata": {},
   "outputs": [
    {
     "name": "stdout",
     "output_type": "stream",
     "text": [
      "Servidor en 127.0.0.1:12345\n"
     ]
    }
   ],
   "source": [
    "import socket\n",
    "import secrets\n",
    "import pickle\n",
    "\n",
    "# Configuración del servidor\n",
    "server_ip = '127.0.0.1'\n",
    "server_port = 12345\n",
    "\n",
    "# Generar una clave aleatoria para cifrado básico\n",
    "encryption_key = secrets.token_bytes(16)\n",
    "\n",
    "# Inicializar el servidor\n",
    "server_socket = socket.socket(socket.AF_INET, socket.SOCK_STREAM)\n",
    "server_socket.bind((server_ip, server_port))\n",
    "server_socket.listen(5)\n",
    "\n",
    "print(f\"Servidor en {server_ip}:{server_port}\")\n",
    "\n",
    "# Función para otorgar una nueva sesión a un cliente\n",
    "def grant_new_session(client_socket):\n",
    "    # Generar un ID de cliente único\n",
    "    client_id = len(client_sessions) + 1\n",
    "\n",
    "    # Enviar el ID del cliente al cliente\n",
    "    client_socket.send(str(client_id).encode())\n",
    "\n",
    "    # Serializar y enviar la clave de cifrado al cliente\n",
    "    encrypted_key = pickle.dumps(encryption_key)\n",
    "    client_socket.send(encrypted_key)\n",
    "\n",
    "    # Agregar la sesión del cliente al diccionario\n",
    "    client_sessions[client_id] = client_socket\n",
    "\n",
    "# Diccionario para mantener las sesiones de los clientes\n",
    "client_sessions = {}\n",
    "\n",
    "# Esperar conexiones entrantes\n",
    "while True:\n",
    "    client_socket, client_address = server_socket.accept()\n",
    "    print(f\"Conexión entrante desde {client_address}\")\n",
    "    grant_new_session(client_socket)\n",
    "\n",
    "    # Ejemplo de cómo recibir un mensaje del cliente\n",
    "    client_id = len(client_sessions)\n",
    "    message = client_sessions[client_id].recv(1024)\n",
    "    print(f\"Mensaje del cliente {client_id}: {message.decode()}\")"
   ]
  }
 ],
 "metadata": {
  "kernelspec": {
   "display_name": "Python 3",
   "language": "python",
   "name": "python3"
  },
  "language_info": {
   "codemirror_mode": {
    "name": "ipython",
    "version": 3
   },
   "file_extension": ".py",
   "mimetype": "text/x-python",
   "name": "python",
   "nbconvert_exporter": "python",
   "pygments_lexer": "ipython3",
   "version": "3.11.4"
  }
 },
 "nbformat": 4,
 "nbformat_minor": 2
}
