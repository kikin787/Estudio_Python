{
 "cells": [
  {
   "cell_type": "code",
   "execution_count": 20,
   "metadata": {},
   "outputs": [
    {
     "name": "stdout",
     "output_type": "stream",
     "text": [
      "Generación: 0  Mejor Individuo: 1111101101  Fitness: 8\n",
      "Generación: 1  Mejor Individuo: 1100011111  Fitness: 7\n",
      "Generación: 2  Mejor Individuo: 1111101011  Fitness: 8\n",
      "Generación: 3  Mejor Individuo: 1110010111  Fitness: 7\n",
      "Generación: 4  Mejor Individuo: 1111101101  Fitness: 8\n",
      "Generación: 5  Mejor Individuo: 0110111011  Fitness: 7\n",
      "Generación: 6  Mejor Individuo: 1111101011  Fitness: 8\n",
      "Generación: 7  Mejor Individuo: 0110111101  Fitness: 7\n",
      "Mejor Solución encontrada: 1111101111\n",
      "Fitness de la Mejor Solución: 9\n"
     ]
    }
   ],
   "source": [
    "import random\n",
    "\n",
    "def generar_poblacion(tam_poblacion, longitud_cadena):\n",
    "    return [''.join(random.choice('01') for _ in range(longitud_cadena)) for _ in range(tam_poblacion)]\n",
    "\n",
    "def evaluar_fitness(cadena_objetivo, individuo):\n",
    "    return sum(1 for a, b in zip(cadena_objetivo, individuo) if a == b)\n",
    "\n",
    "def seleccionar_padres(poblacion, pesos):\n",
    "    return random.choices(poblacion, weights=pesos, k=2)\n",
    "\n",
    "def cruzar(padre1, padre2):\n",
    "    punto_cruce = random.randint(1, len(padre1) - 1)\n",
    "    hijo1 = padre1[:punto_cruce] + padre2[punto_cruce:]\n",
    "    hijo2 = padre2[:punto_cruce] + padre1[punto_cruce:]\n",
    "    return hijo1, hijo2\n",
    "\n",
    "def mutar(individuo, tasa_mutacion):\n",
    "    return ''.join(bit if random.random() > tasa_mutacion else '1' if bit == '0' else '0' for bit in individuo)\n",
    "\n",
    "def algoritmo_one_max(tam_poblacion, longitud_cadena, generaciones, tasa_mutacion):\n",
    "    poblacion = generar_poblacion(tam_poblacion, longitud_cadena)\n",
    "    cadena_objetivo = '1' * longitud_cadena\n",
    "\n",
    "    for _ in range(generaciones):\n",
    "        fitness_poblacion = [evaluar_fitness(cadena_objetivo, individuo) for individuo in poblacion]\n",
    "        mejor_individuo = poblacion[fitness_poblacion.index(max(fitness_poblacion))]\n",
    "        print(\"Generación:\", _, \" Mejor Individuo:\", mejor_individuo, \" Fitness:\", max(fitness_poblacion))\n",
    "        pesos = [fitness / sum(fitness_poblacion) for fitness in fitness_poblacion]\n",
    "        nueva_generacion = []\n",
    "\n",
    "        # Genera la siguiente generación cruzando y mutando a los padres seleccionados.\n",
    "        for _ in range(tam_poblacion // 2):\n",
    "            padre1, padre2 = seleccionar_padres(poblacion, pesos)\n",
    "            hijo1, hijo2 = cruzar(padre1, padre2)\n",
    "            hijo1 = mutar(hijo1, tasa_mutacion)\n",
    "            hijo2 = mutar(hijo2, tasa_mutacion)\n",
    "            nueva_generacion.extend([hijo1, hijo2])\n",
    "\n",
    "        # Actualiza la población con la nueva generación.\n",
    "        poblacion = nueva_generacion\n",
    "\n",
    "    # Encuentra el mejor individuo después de todas las generaciones.\n",
    "    mejor_individuo = max(poblacion, key=lambda x: evaluar_fitness(cadena_objetivo, x))\n",
    "    mejor_fitness = evaluar_fitness(cadena_objetivo, mejor_individuo)\n",
    "\n",
    "    print(\"Mejor Solución encontrada:\", mejor_individuo)\n",
    "    print(\"Fitness de la Mejor Solución:\", mejor_fitness)\n",
    "\n",
    "# Parámetros del algoritmo\n",
    "tam_poblacion = 45\n",
    "longitud_cadena = 10\n",
    "generaciones = 8\n",
    "tasa_mutacion = 2\n",
    "\n",
    "# Ejecutar el algoritmo OneMax con los parámetros definidos.\n",
    "algoritmo_one_max(tam_poblacion, longitud_cadena, generaciones, tasa_mutacion)"
   ]
  }
 ],
 "metadata": {
  "kernelspec": {
   "display_name": "Python 3",
   "language": "python",
   "name": "python3"
  },
  "language_info": {
   "codemirror_mode": {
    "name": "ipython",
    "version": 3
   },
   "file_extension": ".py",
   "mimetype": "text/x-python",
   "name": "python",
   "nbconvert_exporter": "python",
   "pygments_lexer": "ipython3",
   "version": "3.11.4"
  }
 },
 "nbformat": 4,
 "nbformat_minor": 2
}
