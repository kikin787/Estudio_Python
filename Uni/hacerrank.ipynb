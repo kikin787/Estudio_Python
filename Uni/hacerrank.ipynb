{
 "cells": [
  {
   "cell_type": "code",
   "execution_count": 22,
   "metadata": {},
   "outputs": [
    {
     "name": "stdout",
     "output_type": "stream",
     "text": [
      "Weird\n"
     ]
    }
   ],
   "source": [
    "#!/bin/python3\n",
    "\n",
    "import math\n",
    "import os\n",
    "import random\n",
    "import re\n",
    "import sys\n",
    "\n",
    "n = 3\n",
    "if n % 2 != 0:\n",
    "    print('Weird')\n",
    "if n % 2 == 0 and 2 <= n <= 5:\n",
    "    print('Not Weird')\n",
    "if n % 2 == 0 and 6 <= n <= 20:\n",
    "    print('Weird')\n",
    "if n % 2 == 0 and n > 20:\n",
    "    print('Not Weird')\n"
   ]
  },
  {
   "cell_type": "code",
   "execution_count": null,
   "metadata": {},
   "outputs": [],
   "source": [
    "a = int(input())\n",
    "b = int(input())\n",
    "s = a + b\n",
    "r = a - b\n",
    "m = a * b\n",
    "print(s, r, m, sep=\"\\n\")"
   ]
  },
  {
   "cell_type": "code",
   "execution_count": null,
   "metadata": {},
   "outputs": [],
   "source": [
    "n = int(input())\n",
    "for i in range(n):\n",
    "    print(i*i)"
   ]
  },
  {
   "cell_type": "code",
   "execution_count": 32,
   "metadata": {},
   "outputs": [
    {
     "name": "stdout",
     "output_type": "stream",
     "text": [
      "False\n"
     ]
    }
   ],
   "source": [
    "def is_leap(year):\n",
    "    leap = False\n",
    "    \n",
    "    if(year % 4 == 0 and year % 100 != 0):\n",
    "        leap = True\n",
    "    elif(year == 2000 or year == 2400):\n",
    "        leap = True\n",
    "    \n",
    "    return leap\n",
    "\n",
    "year = int(input())\n",
    "print(is_leap(year))"
   ]
  },
  {
   "cell_type": "code",
   "execution_count": null,
   "metadata": {},
   "outputs": [],
   "source": [
    "n = int(input())\n",
    "s = ''\n",
    "for i in range(n):\n",
    "    s += str(i+1)\n",
    "print(s)"
   ]
  },
  {
   "cell_type": "code",
   "execution_count": null,
   "metadata": {},
   "outputs": [],
   "source": [
    "def solve(s):\n",
    "    winner = -99999\n",
    "    runner = -99999\n",
    "    for i in s:\n",
    "        if(i > winner):\n",
    "            winner, runner = i, winner\n",
    "        elif(i < winner and i > runner):\n",
    "            runner = i\n",
    "    return runner\n",
    "#n = int(input())\n",
    "arr = map(int, input().split())\n",
    "\n",
    "print(solve(arr))"
   ]
  },
  {
   "cell_type": "code",
   "execution_count": 4,
   "metadata": {},
   "outputs": [
    {
     "name": "stdout",
     "output_type": "stream",
     "text": [
      "{'2': 'a'}\n",
      "{'3': 'a'}\n"
     ]
    }
   ],
   "source": [
    "a = {}\n",
    "for i in range(int(input())):\n",
    "    name = input()\n",
    "    score = str(input())\n",
    "    if (a.has_key(score)):\n",
    "       a"
   ]
  }
 ],
 "metadata": {
  "kernelspec": {
   "display_name": "Python 3",
   "language": "python",
   "name": "python3"
  },
  "language_info": {
   "codemirror_mode": {
    "name": "ipython",
    "version": 3
   },
   "file_extension": ".py",
   "mimetype": "text/x-python",
   "name": "python",
   "nbconvert_exporter": "python",
   "pygments_lexer": "ipython3",
   "version": "3.11.4"
  },
  "orig_nbformat": 4
 },
 "nbformat": 4,
 "nbformat_minor": 2
}
