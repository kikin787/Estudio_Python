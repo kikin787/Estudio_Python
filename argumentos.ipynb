{
 "cells": [
  {
   "cell_type": "code",
   "execution_count": 12,
   "metadata": {},
   "outputs": [
    {
     "name": "stdout",
     "output_type": "stream",
     "text": [
      "8.5\n",
      "8.333333333333334\n",
      "0\n",
      "12\n",
      "(1, 8, 9, 6)\n",
      "400\n"
     ]
    }
   ],
   "source": [
    "def prom(listado):\n",
    "    return sum(listado) / len(listado)\n",
    "res = prom([10, 8, 9, 7])\n",
    "print(res)\n",
    "\n",
    "# para no poner corchetes o sea muchos arguments y no solo uno\n",
    "# serán llamados args\n",
    "def prom2(*args):\n",
    "    return sum(args) / len(args)\n",
    "res = prom2(10, 8, 9, 7, 8, 4, 9, 10, 10)\n",
    "print(res)\n",
    "\n",
    "\n",
    "def com(p1, p2, *args, p=400):\n",
    "    print(p1)\n",
    "    print(p2)\n",
    "    print(args)\n",
    "    print(p)\n",
    "com(0,12,1,8,9,6)\n"
   ]
  },
  {
   "cell_type": "markdown",
   "metadata": {},
   "source": [
    "Kwargs \n",
    "Se usa para diccionarios en funciones"
   ]
  },
  {
   "cell_type": "code",
   "execution_count": 13,
   "metadata": {},
   "outputs": [
    {
     "name": "stdout",
     "output_type": "stream",
     "text": [
      "{'Erick': [10, 10, 10], 'Kikin': [8, 8, 8]}\n",
      "<class 'dict'>\n",
      "(3, 4, 5)\n",
      "{'cc': True, 'sexo': 'Masculino'}\n"
     ]
    }
   ],
   "source": [
    "def usu(**kwargs):\n",
    "    print(kwargs)\n",
    "    print(type(kwargs))\n",
    "\n",
    "usu(Erick = [10, 10, 10], Kikin = [8, 8, 8])\n",
    "\n",
    "\n",
    "def comb(p1, p2, *args, **kwargs):\n",
    "    print(args)\n",
    "    print(kwargs)\n",
    "\n",
    "comb(1, 2, 3, 4, 5, cc=True, sexo ='Masculino')\n"
   ]
  },
  {
   "cell_type": "markdown",
   "metadata": {},
   "source": [
    "Scopes"
   ]
  },
  {
   "cell_type": "code",
   "execution_count": 14,
   "metadata": {},
   "outputs": [
    {
     "name": "stdout",
     "output_type": "stream",
     "text": [
      "erick\n",
      "2098204724208\n",
      "zorro\n",
      "2098204726064\n"
     ]
    }
   ],
   "source": [
    "animal = 'zorro'\n",
    "\n",
    "def impani():\n",
    "    #global animal para modificar la variable global desde la función para el resto del codigo\n",
    "    animal = 'erick'\n",
    "    print(animal)\n",
    "    print(id(animal))\n",
    "\n",
    "impani()\n",
    "\n",
    "print(animal)\n",
    "print(id(animal))"
   ]
  },
  {
   "cell_type": "markdown",
   "metadata": {},
   "source": [
    "Primera clase"
   ]
  },
  {
   "cell_type": "code",
   "execution_count": 15,
   "metadata": {},
   "outputs": [
    {
     "name": "stdout",
     "output_type": "stream",
     "text": [
      "41.0\n",
      "64.4\n"
     ]
    }
   ],
   "source": [
    "def cenafa(grados):\n",
    "    return grados * 1.8 + 32\n",
    "\n",
    "\n",
    "ajales = cenafa\n",
    "print(ajales(5))\n",
    "print(ajales(18))"
   ]
  }
 ],
 "metadata": {
  "kernelspec": {
   "display_name": "Python 3",
   "language": "python",
   "name": "python3"
  },
  "language_info": {
   "codemirror_mode": {
    "name": "ipython",
    "version": 3
   },
   "file_extension": ".py",
   "mimetype": "text/x-python",
   "name": "python",
   "nbconvert_exporter": "python",
   "pygments_lexer": "ipython3",
   "version": "3.11.4"
  },
  "orig_nbformat": 4
 },
 "nbformat": 4,
 "nbformat_minor": 2
}
