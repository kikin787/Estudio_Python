{
 "cells": [
  {
   "cell_type": "markdown",
   "metadata": {},
   "source": [
    "Split y Join\n",
    "Sirven para formar un string en lista y viceversa"
   ]
  },
  {
   "cell_type": "code",
   "execution_count": null,
   "metadata": {},
   "outputs": [],
   "source": [
    "leng = 'python ruby java rust'\n",
    "print(leng)\n",
    "# puedes poner cualquier caracter ejemplo split('-')\n",
    "listado_len = leng.split() #hace una lista con espacios \n",
    "list_A = leng.split(\" \", 2) #decides cuantos dividir\n",
    "print(listado_len)\n",
    "print(list_A)\n",
    "\n",
    "#metodo inverso\n",
    "leng_1 = ['Python', 'Ruby', 'Java', 'Rust']\n",
    "\n",
    "string_len_1 = ' '.join(leng_1)\n",
    "print(string_len_1)"
   ]
  },
  {
   "cell_type": "markdown",
   "metadata": {},
   "source": [
    "Concatenar"
   ]
  },
  {
   "cell_type": "code",
   "execution_count": null,
   "metadata": {},
   "outputs": [],
   "source": [
    "nombre = 'Enrique'\n",
    "apellido = 'Vélez'\n",
    "\n",
    "# nmc = nombre + \" \" +apellido \n",
    "nomc = 'Kikin es %s %s %s' %(nombre, apellido, 'la mera mena') #manera de c\n",
    "print(nomc)\n",
    "\n",
    "#nombre1 = 'Mr. {} {} {}.'.format(nombre, apellido, 'sexo') #holders\n",
    "nombre1 = 'Mr. {nombre} {apellido} {apell} '.format(\n",
    "    nombre = nombre,\n",
    "    apellido = apellido,\n",
    "    apell = 'Duran'\n",
    "\n",
    ")\n",
    "print(nombre1)"
   ]
  },
  {
   "cell_type": "markdown",
   "metadata": {},
   "source": [
    "FString es interpolación"
   ]
  },
  {
   "cell_type": "code",
   "execution_count": 46,
   "metadata": {},
   "outputs": [
    {
     "name": "stdout",
     "output_type": "stream",
     "text": [
      "Mr. Enrique Vélez 10\n"
     ]
    }
   ],
   "source": [
    "nomc = f'Mr. {nombre} {apellido} {2 + 8}'\n",
    "print(nomc) \n"
   ]
  },
  {
   "cell_type": "markdown",
   "metadata": {},
   "source": [
    "Funcio print man"
   ]
  },
  {
   "cell_type": "code",
   "execution_count": null,
   "metadata": {},
   "outputs": [],
   "source": [
    "print(nombre, apellido, 'Wow', sep= \"-\")"
   ]
  },
  {
   "cell_type": "markdown",
   "metadata": {},
   "source": [
    "busqueda en string y contador"
   ]
  },
  {
   "cell_type": "code",
   "execution_count": null,
   "metadata": {},
   "outputs": [],
   "source": [
    "titulo_curso ='Curso profesiona de python, python PYthon PYthON'\n",
    "\n",
    "contador = titulo_curso.lower().count('python') #podemos usar titulo_curso.lower().count('python') para hacer toda la frase en minusculas, ya que por alguna mayuscula dirá que no está\n",
    "print('python' in titulo_curso.lower())\n",
    "print(contador)\n",
    "\n",
    "print(titulo_curso.upper().startswith('CURSO'))\n",
    "print(titulo_curso.lower().endswith('python'))"
   ]
  },
  {
   "cell_type": "markdown",
   "metadata": {},
   "source": [
    "Justificar texto"
   ]
  },
  {
   "cell_type": "code",
   "execution_count": 4,
   "metadata": {},
   "outputs": [
    {
     "name": "stdout",
     "output_type": "stream",
     "text": [
      "Hola perra\n"
     ]
    }
   ],
   "source": [
    "mensa = \"Hola perra\"\n",
    "# ljust -> justifica a la izquierda\n",
    "# rjust -> justifica a la derecha\n",
    "# center -> centra el texto\n",
    "mensa = mensa.center(8)\n",
    "print(mensa)\n"
   ]
  }
 ],
 "metadata": {
  "kernelspec": {
   "display_name": "Python 3",
   "language": "python",
   "name": "python3"
  },
  "language_info": {
   "codemirror_mode": {
    "name": "ipython",
    "version": 3
   },
   "file_extension": ".py",
   "mimetype": "text/x-python",
   "name": "python",
   "nbconvert_exporter": "python",
   "pygments_lexer": "ipython3",
   "version": "3.11.4"
  },
  "orig_nbformat": 4
 },
 "nbformat": 4,
 "nbformat_minor": 2
}
