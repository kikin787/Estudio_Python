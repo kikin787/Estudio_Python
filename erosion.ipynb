{
 "cells": [
  {
   "cell_type": "code",
   "execution_count": null,
   "metadata": {},
   "outputs": [],
   "source": [
    "import cv2\n",
    "import numpy as np\n",
    "import matplotlib.pyplot as plt\n",
    "\n",
    "# Función para mostrar dos imágenes lado a lado\n",
    "def mostrar_imagenes_lado_a_lado(img1, img2, titulo1=\"Original\", titulo2=\"Erosionada\"):\n",
    "    plt.figure(figsize=(10, 5))\n",
    "    \n",
    "    # Mostrar imagen original\n",
    "    plt.subplot(1, 2, 1)\n",
    "    plt.imshow(img1, cmap='gray')\n",
    "    plt.title(titulo1)\n",
    "    plt.axis('off')\n",
    "    \n",
    "    # Mostrar imagen erosionada\n",
    "    plt.subplot(1, 2, 2)\n",
    "    plt.imshow(img2, cmap='gray')\n",
    "    plt.title(titulo2)\n",
    "    plt.axis('off')\n",
    "    \n",
    "    plt.show()\n",
    "\n",
    "# Leer la imagen en escala de grises\n",
    "imagen = cv2.imread('C:\\Users\\Kikin\\Documents\\Python\\Estudio_Python\\img\\rabbit-shape.jpg', 0)\n",
    "\n",
    "# Verificar si la imagen se cargó correctamente\n",
    "if imagen is None:\n",
    "    print(\"Error al cargar la imagen. Asegúrate de que el archivo 'imagen_binaria.png' existe.\")\n",
    "else:\n",
    "    # Definir el elemento estructurante (un cuadrado de 3x3)\n",
    "    elemento_estructurante = np.ones((3, 3), np.uint8)\n",
    "\n",
    "    # Aplicar la erosión\n",
    "    imagen_erosionada = cv2.erode(imagen, elemento_estructurante, iterations=1)\n",
    "\n",
    "    # Mostrar las imágenes original y erosionada\n",
    "    mostrar_imagenes_lado_a_lado(imagen, imagen_erosionada)\n",
    "\n",
    "    # Guardar la imagen erosionada\n",
    "    cv2.imwrite('imagen_erosionada.png', imagen_erosionada)\n"
   ]
  }
 ],
 "metadata": {
  "language_info": {
   "name": "python"
  }
 },
 "nbformat": 4,
 "nbformat_minor": 2
}
